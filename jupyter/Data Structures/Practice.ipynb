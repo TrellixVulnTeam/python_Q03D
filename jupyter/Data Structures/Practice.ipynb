{
 "cells": [
  {
   "cell_type": "markdown",
   "metadata": {},
   "source": [
    "# LISTS EXERCISE\n",
    "\n",
    "## Task 1: ADD ALL DICTIONARY VALUES\n",
    "\n",
    "### WORK WITH\n",
    "\n",
    "`toys = {\"robot\": \"$40.0\", \"car\":\"$25\",\"ironman\":\"$12\"}`\n",
    "\n",
    "### DESIRED OUTPUT\n",
    "\n",
    "77\n",
    "\n",
    "### HINTS?\n",
    "\n",
    "1. Use the values() method\n",
    "2. Use list\n",
    "3. Use the built-in Python function eval() to convert a string to a number\n",
    "4. Use the list slicing with the appropiate index to grab the numbers. Add them together\n",
    "5. Use the int type\n",
    "\n"
   ]
  },
  {
   "cell_type": "code",
   "execution_count": 12,
   "metadata": {
    "scrolled": false
   },
   "outputs": [
    {
     "data": {
      "text/plain": [
       "{'robot': '$40.0', 'car': '$25', 'ironman': '$12'}"
      ]
     },
     "execution_count": 12,
     "metadata": {},
     "output_type": "execute_result"
    }
   ],
   "source": [
    "toys = {\"robot\": \"$40.0\", \"car\":\"$25\",\"ironman\":\"$12\"}\n",
    "\n",
    "toys"
   ]
  },
  {
   "cell_type": "code",
   "execution_count": 13,
   "metadata": {
    "scrolled": true
   },
   "outputs": [
    {
     "data": {
      "text/plain": [
       "dict_values(['$40.0', '$25', '$12'])"
      ]
     },
     "execution_count": 13,
     "metadata": {},
     "output_type": "execute_result"
    }
   ],
   "source": [
    "toys.values()"
   ]
  },
  {
   "cell_type": "code",
   "execution_count": 15,
   "metadata": {},
   "outputs": [
    {
     "data": {
      "text/plain": [
       "['$40.0', '$25', '$12']"
      ]
     },
     "execution_count": 15,
     "metadata": {},
     "output_type": "execute_result"
    }
   ],
   "source": [
    "list(toys.values())"
   ]
  },
  {
   "cell_type": "code",
   "execution_count": 16,
   "metadata": {},
   "outputs": [
    {
     "data": {
      "text/plain": [
       "'$40.0'"
      ]
     },
     "execution_count": 16,
     "metadata": {},
     "output_type": "execute_result"
    }
   ],
   "source": [
    "list(toys.values())[0]"
   ]
  },
  {
   "cell_type": "code",
   "execution_count": 17,
   "metadata": {},
   "outputs": [
    {
     "data": {
      "text/plain": [
       "'40.0'"
      ]
     },
     "execution_count": 17,
     "metadata": {},
     "output_type": "execute_result"
    }
   ],
   "source": [
    "list(toys.values())[0][1:]"
   ]
  },
  {
   "cell_type": "code",
   "execution_count": 18,
   "metadata": {
    "scrolled": false
   },
   "outputs": [
    {
     "data": {
      "text/plain": [
       "40.0"
      ]
     },
     "execution_count": 18,
     "metadata": {},
     "output_type": "execute_result"
    }
   ],
   "source": [
    "eval(list(toys.values())[0][1:])"
   ]
  },
  {
   "cell_type": "code",
   "execution_count": 19,
   "metadata": {},
   "outputs": [],
   "source": [
    "num = eval(list(toys.values())[0][1:]) + eval(list(toys.values())[1][1:]) + eval(list(toys.values())[2][1:])"
   ]
  },
  {
   "cell_type": "code",
   "execution_count": 20,
   "metadata": {},
   "outputs": [
    {
     "data": {
      "text/plain": [
       "77.0"
      ]
     },
     "execution_count": 20,
     "metadata": {},
     "output_type": "execute_result"
    }
   ],
   "source": [
    "num"
   ]
  },
  {
   "cell_type": "markdown",
   "metadata": {},
   "source": [
    "## Task 2: USE COMPARISON OPERATORS IN A LIST\n",
    "\n",
    "### WORK WITH\n",
    "\n",
    "`questions = [10 4,50 50, 90 10, \"c\" (\"a\",\"b\",\"c\"), 100 100]`\n",
    "\n",
    "    != \n",
    "    ==\n",
    "    in\n",
    "\n",
    "### DESIRED OUTPUT\n",
    "\n",
    "[True, True, False, True, False]\n",
    "\n",
    "### HINTS?\n",
    "\n",
    "1. Use only the three of the operators shown above\n"
   ]
  },
  {
   "cell_type": "code",
   "execution_count": 23,
   "metadata": {},
   "outputs": [
    {
     "data": {
      "text/plain": [
       "[True, True, False, True, False]"
      ]
     },
     "execution_count": 23,
     "metadata": {},
     "output_type": "execute_result"
    }
   ],
   "source": [
    "#questions = [10  4,50  50, 90  10, \"c\" (\"a\",\"b\",\"c\"), 100 100]\n",
    "questions = [10 != 4,50 == 50, 90 == 10, \"c\" in (\"a\",\"b\",\"c\"), 100 != 100]\n",
    "\n",
    "questions"
   ]
  },
  {
   "cell_type": "markdown",
   "metadata": {},
   "source": [
    "## Task 3: LEN KEY VALUES WITH COMPARISON OPERATORS\n",
    "\n",
    "### WORK WITH\n",
    "\n",
    "`films = {\"k1\": \"blade runner 2049\", \"k2\": \"matrix\", \"k3\":\"terminator\"}`\n",
    "\n",
    "    <\n",
    "    >\n",
    "    len()\n",
    "\n",
    "### DESIRED OUTPUT\n",
    "\n",
    "True\n",
    "\n",
    "### HINTS?\n",
    "\n",
    "1. Use only the two operators shown above\n",
    "2. Use the built-in function, len()\n",
    "3. Use the operators in the same order as the dictionary keys\n"
   ]
  },
  {
   "cell_type": "code",
   "execution_count": 11,
   "metadata": {},
   "outputs": [
    {
     "data": {
      "text/plain": [
       "{'k1': 'blade runner 2049', 'k2': 'matrix', 'k3': 'terminator'}"
      ]
     },
     "execution_count": 11,
     "metadata": {},
     "output_type": "execute_result"
    }
   ],
   "source": [
    "films = {\"k1\": \"blade runner 2049\", \"k2\": \"matrix\", \"k3\":\"terminator\"}\n",
    "films"
   ]
  },
  {
   "cell_type": "code",
   "execution_count": 25,
   "metadata": {},
   "outputs": [
    {
     "data": {
      "text/plain": [
       "False"
      ]
     },
     "execution_count": 25,
     "metadata": {},
     "output_type": "execute_result"
    }
   ],
   "source": [
    "len(films[\"k1\"])> len(films[\"k2\"]) > len(films[\"k3\"])"
   ]
  },
  {
   "cell_type": "code",
   "execution_count": 26,
   "metadata": {},
   "outputs": [
    {
     "data": {
      "text/plain": [
       "True"
      ]
     },
     "execution_count": 26,
     "metadata": {},
     "output_type": "execute_result"
    }
   ],
   "source": [
    "len(films[\"k1\"])> len(films[\"k2\"]) < len(films[\"k3\"])"
   ]
  },
  {
   "cell_type": "markdown",
   "metadata": {},
   "source": [
    "## Task 4: UPDATE DICTIONARY\n",
    "\n",
    "### WORK WITH\n",
    "\n",
    "`life_stages = {0: \"embryo\", 1: \"fetus\", 2:\"baby\", 3:\"infant\", 4: \"teen\"}`\n",
    "\n",
    "    \n",
    "### DESIRED OUTPUT\n",
    "\n",
    "`{0: \"embryo\", 1: \"fetus\", 2:\"baby\", 3:\"infant\", 4: \"teen\", 5: \"adult\", 6: \"big kid!\"}`\n",
    "\n",
    "### HINTS?\n",
    "\n",
    "1. Create a new dictionary called midlife, with keys 5 and 6, and key values \"adult\" and \"big kid!\"\n",
    "2. Add midlife dictionary to life_stages using one of the dictionary methods\n"
   ]
  },
  {
   "cell_type": "code",
   "execution_count": 28,
   "metadata": {},
   "outputs": [
    {
     "data": {
      "text/plain": [
       "{0: 'embryo', 1: 'fetus', 2: 'baby', 3: 'infant', 4: 'teen'}"
      ]
     },
     "execution_count": 28,
     "metadata": {},
     "output_type": "execute_result"
    }
   ],
   "source": [
    "life_stages = {0: \"embryo\", 1: \"fetus\", 2:\"baby\", 3:\"infant\", 4: \"teen\"}\n",
    "life_stages"
   ]
  },
  {
   "cell_type": "code",
   "execution_count": 30,
   "metadata": {},
   "outputs": [
    {
     "data": {
      "text/plain": [
       "{5: 'adult', 6: 'big kid!'}"
      ]
     },
     "execution_count": 30,
     "metadata": {},
     "output_type": "execute_result"
    }
   ],
   "source": [
    "midlife = {5:\"adult\",6:\"big kid!\"}\n",
    "midlife"
   ]
  },
  {
   "cell_type": "code",
   "execution_count": 31,
   "metadata": {},
   "outputs": [
    {
     "data": {
      "text/plain": [
       "{0: 'embryo',\n",
       " 1: 'fetus',\n",
       " 2: 'baby',\n",
       " 3: 'infant',\n",
       " 4: 'teen',\n",
       " 5: 'adult',\n",
       " 6: 'big kid!'}"
      ]
     },
     "execution_count": 31,
     "metadata": {},
     "output_type": "execute_result"
    }
   ],
   "source": [
    "life_stages.update(midlife)\n",
    "life_stages"
   ]
  },
  {
   "cell_type": "markdown",
   "metadata": {},
   "source": [
    "## Task 5: ADD ALL VALUES FROM LIST\n",
    "\n",
    "### WORK WITH\n",
    "\n",
    "`nest1 = [(1,2,3), {\"k1\": [0,1,300,2,77], \"k2\":[10,20,30]),[\"a\",\"500\",\"c\"]]`\n",
    "\n",
    "    sorted()\n",
    "    eval()\n",
    "\n",
    "    \n",
    "### DESIRED OUTPUT\n",
    "\n",
    "    833.0\n",
    "    \n",
    "### HINTS?\n",
    "\n",
    "1. Add 3,300,30 and 500 together from each of the nested tuples, dictionaries or lists.\n",
    "2. Use only the two built-in python functions shown above.\n",
    "3. Use the Python built-in function, sorted for \"k1\"\n",
    "4. For the nested dictionary, \"k1\", index only by-1, not 2.\n",
    "5. Use the float."
   ]
  },
  {
   "cell_type": "code",
   "execution_count": 1,
   "metadata": {},
   "outputs": [],
   "source": [
    "nest1 = [(1,2,3),{\"k1\":[30,1,300,2,77],\"k2\":[10,20,30]},[\"a\",\"500\",\"c\"]]"
   ]
  },
  {
   "cell_type": "code",
   "execution_count": 2,
   "metadata": {},
   "outputs": [
    {
     "data": {
      "text/plain": [
       "[(1, 2, 3), {'k1': [30, 1, 300, 2, 77], 'k2': [10, 20, 30]}, ['a', '500', 'c']]"
      ]
     },
     "execution_count": 2,
     "metadata": {},
     "output_type": "execute_result"
    }
   ],
   "source": [
    "nest1"
   ]
  },
  {
   "cell_type": "code",
   "execution_count": 3,
   "metadata": {},
   "outputs": [
    {
     "data": {
      "text/plain": [
       "3"
      ]
     },
     "execution_count": 3,
     "metadata": {},
     "output_type": "execute_result"
    }
   ],
   "source": [
    "nest1[0][2]"
   ]
  },
  {
   "cell_type": "code",
   "execution_count": 8,
   "metadata": {},
   "outputs": [
    {
     "data": {
      "text/plain": [
       "303"
      ]
     },
     "execution_count": 8,
     "metadata": {},
     "output_type": "execute_result"
    }
   ],
   "source": [
    "nest1[0][2] + k1"
   ]
  },
  {
   "cell_type": "code",
   "execution_count": 6,
   "metadata": {},
   "outputs": [],
   "source": [
    "k1 = sorted(nest1[1][\"k1\"])[-1]"
   ]
  },
  {
   "cell_type": "code",
   "execution_count": 7,
   "metadata": {},
   "outputs": [
    {
     "data": {
      "text/plain": [
       "300"
      ]
     },
     "execution_count": 7,
     "metadata": {},
     "output_type": "execute_result"
    }
   ],
   "source": [
    "k1"
   ]
  },
  {
   "cell_type": "code",
   "execution_count": 9,
   "metadata": {},
   "outputs": [],
   "source": [
    "k2 = nest1[1][\"k2\"][-1]"
   ]
  },
  {
   "cell_type": "code",
   "execution_count": 10,
   "metadata": {},
   "outputs": [
    {
     "data": {
      "text/plain": [
       "30"
      ]
     },
     "execution_count": 10,
     "metadata": {},
     "output_type": "execute_result"
    }
   ],
   "source": [
    "k2"
   ]
  },
  {
   "cell_type": "code",
   "execution_count": 11,
   "metadata": {},
   "outputs": [
    {
     "data": {
      "text/plain": [
       "333"
      ]
     },
     "execution_count": 11,
     "metadata": {},
     "output_type": "execute_result"
    }
   ],
   "source": [
    "nest1[0][2] + k1 + k2"
   ]
  },
  {
   "cell_type": "code",
   "execution_count": 12,
   "metadata": {},
   "outputs": [],
   "source": [
    "k3 = eval(nest1[2][1])"
   ]
  },
  {
   "cell_type": "code",
   "execution_count": 13,
   "metadata": {},
   "outputs": [
    {
     "data": {
      "text/plain": [
       "500"
      ]
     },
     "execution_count": 13,
     "metadata": {},
     "output_type": "execute_result"
    }
   ],
   "source": [
    "k3"
   ]
  },
  {
   "cell_type": "code",
   "execution_count": 14,
   "metadata": {},
   "outputs": [
    {
     "data": {
      "text/plain": [
       "833.0"
      ]
     },
     "execution_count": 14,
     "metadata": {},
     "output_type": "execute_result"
    }
   ],
   "source": [
    "float(nest1[0][2]+k1+k2+k3)"
   ]
  },
  {
   "cell_type": "markdown",
   "metadata": {},
   "source": [
    "## Task 5: ADD ALL LIST VALUES INTO A STRING\n",
    "\n",
    "### WORK WITH\n",
    "\n",
    "`prices = [\"a\",\"b\",\"9\",\"c\",\"d\",\"FOUR\",\"e\",\"f\",\"2.5\"]`\n",
    "\n",
    "`sentence = \"\"\"The bill for the {}#!/,?? {}#!/ ?? and drink came to {}?? \"\"\"`\n",
    "    \n",
    "### DESIRED OUTPUT\n",
    "\n",
    "    prices = [\"9\", \"FOUR\", \"2.5\"]\n",
    "   'The bill for the pizza, chips and drink came to $15.5'\n",
    "    \n",
    "### HINTS?\n",
    "\n",
    "1. Use the format function\n",
    "2. Use slicing and stride\n",
    "3. Also use eval, len and str\n",
    "4. Add all the string numbers from the prices list\n",
    "5. Use the replace function twice"
   ]
  },
  {
   "cell_type": "code",
   "execution_count": 16,
   "metadata": {},
   "outputs": [],
   "source": [
    "prices = [\"a\",\"b\",\"9\",\"c\",\"d\",\"FOUR\",\"e\",\"f\",\"2.5\"]"
   ]
  },
  {
   "cell_type": "code",
   "execution_count": 17,
   "metadata": {},
   "outputs": [],
   "source": [
    "sentence = \"\"\"The bill for the {}#!/,?? {}#!/ ?? and drink came to {}?? \"\"\""
   ]
  },
  {
   "cell_type": "code",
   "execution_count": 18,
   "metadata": {},
   "outputs": [
    {
     "data": {
      "text/plain": [
       "'9'"
      ]
     },
     "execution_count": 18,
     "metadata": {},
     "output_type": "execute_result"
    }
   ],
   "source": [
    "prices[2]"
   ]
  },
  {
   "cell_type": "code",
   "execution_count": 19,
   "metadata": {},
   "outputs": [
    {
     "data": {
      "text/plain": [
       "['9', 'FOUR', '2.5']"
      ]
     },
     "execution_count": 19,
     "metadata": {},
     "output_type": "execute_result"
    }
   ],
   "source": [
    "prices[2::3]"
   ]
  },
  {
   "cell_type": "code",
   "execution_count": 20,
   "metadata": {},
   "outputs": [
    {
     "data": {
      "text/plain": [
       "'The bill for the pizza#!/,?? chips#!/ ?? and drink came to $?? '"
      ]
     },
     "execution_count": 20,
     "metadata": {},
     "output_type": "execute_result"
    }
   ],
   "source": [
    "sentence.format(\"pizza\", \"chips\", \"$\")"
   ]
  },
  {
   "cell_type": "code",
   "execution_count": 25,
   "metadata": {},
   "outputs": [
    {
     "data": {
      "text/plain": [
       "'The bill for the pizza, chips  and drink came to $ '"
      ]
     },
     "execution_count": 25,
     "metadata": {},
     "output_type": "execute_result"
    }
   ],
   "source": [
    "sentence.format(\"pizza\",\"chips\",\"$\").replace(\"??\",\"\").replace(\"#!/\",\"\")"
   ]
  },
  {
   "cell_type": "code",
   "execution_count": 23,
   "metadata": {},
   "outputs": [],
   "source": [
    "cash = prices[2::3]\n",
    "\n",
    "p = eval(cash[0])\n",
    "c = len(cash[1])\n",
    "d = eval(cash[2])"
   ]
  },
  {
   "cell_type": "code",
   "execution_count": 24,
   "metadata": {},
   "outputs": [
    {
     "data": {
      "text/plain": [
       "(9, 4, 2.5)"
      ]
     },
     "execution_count": 24,
     "metadata": {},
     "output_type": "execute_result"
    }
   ],
   "source": [
    "p,c,d"
   ]
  },
  {
   "cell_type": "code",
   "execution_count": 27,
   "metadata": {},
   "outputs": [
    {
     "data": {
      "text/plain": [
       "'The bill for the pizza, chips  and drink came to $15.5 '"
      ]
     },
     "execution_count": 27,
     "metadata": {},
     "output_type": "execute_result"
    }
   ],
   "source": [
    "sentence.format(\"pizza\",\"chips\",\"$\" + str(p+c+d)).replace(\"??\",\"\").replace(\"#!/\",\"\")"
   ]
  },
  {
   "cell_type": "code",
   "execution_count": null,
   "metadata": {},
   "outputs": [],
   "source": []
  }
 ],
 "metadata": {
  "kernelspec": {
   "display_name": "Python 3",
   "language": "python",
   "name": "python3"
  },
  "language_info": {
   "codemirror_mode": {
    "name": "ipython",
    "version": 3
   },
   "file_extension": ".py",
   "mimetype": "text/x-python",
   "name": "python",
   "nbconvert_exporter": "python",
   "pygments_lexer": "ipython3",
   "version": "3.7.1"
  }
 },
 "nbformat": 4,
 "nbformat_minor": 2
}
