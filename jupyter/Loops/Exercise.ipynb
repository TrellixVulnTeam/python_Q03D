{
 "cells": [
  {
   "cell_type": "markdown",
   "metadata": {},
   "source": [
    "# LOOPS EXERCISE\n",
    "\n",
    "## TASK 1: CONVERT FOR LOOP INTO A WHILE LOOP\n",
    "\n",
    "### WORK WITH\n",
    "\n",
    "    numbers = list(range(0, 110, 10))\n",
    "    numbers = [0, 10, 20, 30, 40, 50, 60, 70, 80, 90, 100]\n",
    "    first = []\n",
    "    for num in numbers:\n",
    "        s = num *2.5\n",
    "        if s % 2 == 0:\n",
    "            first.append(s)\n",
    "    first\n",
    "\n",
    "### DESIRED OUTPUT\n",
    "\n",
    "    [0, 50, 100, 150, 200, 250]\n",
    "\n",
    "### HINTS?\n",
    "    1. For the while loop, have x < len(numbers).\n",
    "    2. The most import line of code in a while loop to prevent an INFINITE LOOP is x += 1.\n",
    "    3. Create an empty list called second.\n",
    "    4. Start with an initial value of 0."
   ]
  },
  {
   "cell_type": "code",
   "execution_count": 3,
   "metadata": {},
   "outputs": [
    {
     "data": {
      "text/plain": [
       "[0, 50, 100, 150, 200, 250]"
      ]
     },
     "execution_count": 3,
     "metadata": {},
     "output_type": "execute_result"
    }
   ],
   "source": [
    "numbers = list(range(0, 110, 10))\n",
    "numbers\n",
    "first = []\n",
    "for num in numbers:\n",
    "    s = num *2.5\n",
    "    if s % 2 == 0:\n",
    "        first.append(int(s))\n",
    "first"
   ]
  },
  {
   "cell_type": "code",
   "execution_count": 18,
   "metadata": {},
   "outputs": [
    {
     "data": {
      "text/plain": [
       "[0, 50, 100, 150, 200, 250]"
      ]
     },
     "execution_count": 18,
     "metadata": {},
     "output_type": "execute_result"
    }
   ],
   "source": [
    "second = []\n",
    "x = 0\n",
    "while x < len(numbers):\n",
    "    t = numbers[x] * 2.5\n",
    "    if t%2 == 0:\n",
    "        second.append(int(t))\n",
    "    x+= 1\n",
    "    \n",
    "second"
   ]
  },
  {
   "cell_type": "markdown",
   "metadata": {},
   "source": [
    "## TASK 2: USE LEN WITH CONTROL FLOW IN A FOR LOOP\n",
    "\n",
    "### WORK WITH\n",
    "    \n",
    "    rep = [\"Joe\", \"K\", \"Mike\", \"Joi\", \"Luv\", \"Deckard\", \"Wallace\", \"Rachel\"]\n",
    "\n",
    "### DESIRED OUTPUT\n",
    "\n",
    "    Joe is a replicant\n",
    "    Mike is NOT a replicant\n",
    "    Joi is a replicant\n",
    "    Luv is a replicant\n",
    "    Deckard is NOT a replicant\n",
    "    Wallace is NOT a replicant\n",
    "    Rachel is a replicant\n",
    "    \n",
    "### HINTS?\n",
    "    1. In the for loop, use the len function three times\n",
    "    2. Use the print statement twice.\n",
    "    3. The if statement requires three or operators."
   ]
  },
  {
   "cell_type": "code",
   "execution_count": 5,
   "metadata": {},
   "outputs": [
    {
     "data": {
      "text/plain": [
       "['Joe', 'Mike', 'Joi', 'Luv', 'Deckard', 'Wallace', 'Rachel']"
      ]
     },
     "execution_count": 5,
     "metadata": {},
     "output_type": "execute_result"
    }
   ],
   "source": [
    "rep = [\"Joe\", \"Mike\", \"Joi\", \"Luv\", \"Deckard\", \"Wallace\", \"Rachel\"]\n",
    "rep"
   ]
  },
  {
   "cell_type": "code",
   "execution_count": 19,
   "metadata": {},
   "outputs": [
    {
     "name": "stdout",
     "output_type": "stream",
     "text": [
      "Joe is a replicant\n",
      "Mike is not a replicant\n",
      "Joi is a replicant\n",
      "Luv is a replicant\n",
      "Deckard is not a replicant\n",
      "Wallace is not a replicant\n",
      "Rachel is a replicant\n"
     ]
    }
   ],
   "source": [
    "for i in rep:\n",
    "    if len(i) == 3 or len(i) == 6:\n",
    "        print(i, \"is a replicant\")\n",
    "    else:\n",
    "        print(i, \"is not a replicant\")"
   ]
  },
  {
   "cell_type": "markdown",
   "metadata": {},
   "source": [
    "## TASK 3: FOR LOOP WITH NESTED WHILE LOOP\n",
    "\n",
    "### WORK WITH\n",
    "\n",
    "    # Add Code Here\n",
    "    for r in range(2):\n",
    "        # Add Code Here\n",
    "        # Add Code Here\n",
    "            # Add Code VV\n",
    "            k % 2 == 0:\n",
    "                print(\"Question\")\n",
    "            # Add Code VV\n",
    "            k > 3 and k < 7:\n",
    "                print(\"CELL\")\n",
    "            # Add Code VV\n",
    "            k == 3:\n",
    "                print(\"INTERLINKED\")\n",
    "            # Add Code HERE\n",
    "                print(\"CELL WITHIN CELLS\")\n",
    "            # Add Code HERE!!!\n",
    "    # Add Code Here\n",
    "    \n",
    "### DESIRED OUTPUT\n",
    "\n",
    "    Human\n",
    "    Question\n",
    "    Question\n",
    "    CELL WITHIN CELLS\n",
    "    Question\n",
    "    INTERLINKED\n",
    "    Question\n",
    "    CELL\n",
    "    Question\n",
    "    CELL WITHIN CELLS\n",
    "    Question\n",
    "    CELL WITHIN CELLS\n",
    "    Question\n",
    "    INTERLINKED\n",
    "    Question\n",
    "    CELL\n",
    "    Question\n",
    "    CELL WITHIN CELLS\n",
    "    Time to Finish\n",
    "\n",
    "### HINTS?\n",
    "    \n",
    "    1. Use a for loop with range to repeat while loop\n",
    "    2. Use k += 1 with while loop and k < 8.\n",
    "    3. Use if, 2 elif statements, and an else statement in your while loop.\n",
    "    4. Total of 6 different print statements. 4 are inside the while loop."
   ]
  },
  {
   "cell_type": "code",
   "execution_count": 20,
   "metadata": {},
   "outputs": [
    {
     "name": "stdout",
     "output_type": "stream",
     "text": [
      "Human\n",
      "Question\n",
      "CELL WITHIN CELLS\n",
      "Question\n",
      "INTERLINKED\n",
      "Question\n",
      "CELL\n",
      "Question\n",
      "CELL WITHIN CELLS\n",
      "Question\n",
      "CELL WITHIN CELLS\n",
      "Question\n",
      "INTERLINKED\n",
      "Question\n",
      "CELL\n",
      "Question\n",
      "CELL WITHIN CELLS\n",
      "Time to finish\n"
     ]
    }
   ],
   "source": [
    "print(\"Human\")\n",
    "for r in range(2):\n",
    "    k = 0\n",
    "    while k < 8:\n",
    "        if k % 2 == 0:\n",
    "            print(\"Question\")\n",
    "        elif k > 3 and k < 7:\n",
    "            print(\"CELL\")\n",
    "        elif k == 3:\n",
    "            print(\"INTERLINKED\")\n",
    "        else:\n",
    "            print(\"CELL WITHIN CELLS\")\n",
    "        k += 1\n",
    "print(\"Time to finish\")"
   ]
  },
  {
   "cell_type": "markdown",
   "metadata": {},
   "source": [
    "## TASK 4: NESTED FOR LOOP IN A WHILE LOOP\n",
    "\n",
    "### WORK WITH\n",
    "    \n",
    "    print(\"Y =\", y)\n",
    "        print(\"________\")\n",
    "        print(\"X is equal to\", x)\n",
    "        print(\"________\")\n",
    "        \n",
    "### DESIRED OUTPUT\n",
    "\n",
    "    `python\n",
    "    START\n",
    "    Y = 0\n",
    "    ________\n",
    "    X is equal to 4\n",
    "    ________\n",
    "    Y = 2\n",
    "    ________\n",
    "    X is equal to 5\n",
    "    ________\n",
    "    Y = 4\n",
    "    ________\n",
    "    X is equal to 6\n",
    "    ________\n",
    "    Y = 6\n",
    "    ________\n",
    "    X is equal to 7\n",
    "    ________\n",
    "    Y = 8\n",
    "    ________\n",
    "    X is equal to 8\n",
    "    ________\n",
    "    END\n",
    "\n",
    "### HINTS?\n",
    "\n",
    "    1. Code a nested for loop inside a while loop with y < 8.\n",
    "    2. Initial values for y and x are 0\n",
    "    3. Two print statements outside the while loop\n",
    "    4. Use a range of 4 to 9 in the for loop."
   ]
  },
  {
   "cell_type": "code",
   "execution_count": 21,
   "metadata": {},
   "outputs": [
    {
     "name": "stdout",
     "output_type": "stream",
     "text": [
      "Start\n",
      "Y = 0\n",
      "________\n",
      "X is equal to 4\n",
      "________\n",
      "Y = 2\n",
      "________\n",
      "X is equal to 5\n",
      "________\n",
      "Y = 4\n",
      "________\n",
      "X is equal to 6\n",
      "________\n",
      "Y = 6\n",
      "________\n",
      "X is equal to 7\n",
      "________\n",
      "Y = 8\n",
      "________\n",
      "X is equal to 8\n",
      "________\n",
      "End\n"
     ]
    }
   ],
   "source": [
    "y = 0; x = 0\n",
    "print(\"Start\")\n",
    "while y < 8:\n",
    "    for x in range(4,9):\n",
    "        print(\"Y =\", y)\n",
    "        print(\"________\")\n",
    "        print(\"X is equal to\", x)\n",
    "        print(\"________\")\n",
    "        y += 2 ; x += 1\n",
    "print(\"End\")"
   ]
  },
  {
   "cell_type": "markdown",
   "metadata": {},
   "source": [
    "## TASK 5: FOR LOOP TO FIX STUDENT NAMES\n",
    "\n",
    "### WORK WITH\n",
    "\n",
    "    students = [\"nAtalie\", \"M\", \"Fa ye\", \" Callum\", \"Tara\"]\n",
    "\n",
    "### DESIRED OUTPUT\n",
    "\n",
    "    ('NATALIE', 'FAYE', 'TARA', 'CALLUM')\n",
    "    \n",
    "### HINTS?\n",
    "\n",
    "    1. Create an empty list.\n",
    "    2. Use len built-in function.\n",
    "    3. Use also the upper, replace and append methods for list\n",
    "    4. Lastly, convert output to a tuple."
   ]
  },
  {
   "cell_type": "code",
   "execution_count": 12,
   "metadata": {},
   "outputs": [
    {
     "data": {
      "text/plain": [
       "['nAtalie', 'M', 'Fa ye', ' Callum', 'Tara']"
      ]
     },
     "execution_count": 12,
     "metadata": {},
     "output_type": "execute_result"
    }
   ],
   "source": [
    "students = [\"nAtalie\", \"M\", \"Fa ye\", \" Callum\", \"Tara\"]\n",
    "students"
   ]
  },
  {
   "cell_type": "code",
   "execution_count": 22,
   "metadata": {},
   "outputs": [
    {
     "data": {
      "text/plain": [
       "('NATALIE', 'FAYE', 'CALLUM', 'TARA')"
      ]
     },
     "execution_count": 22,
     "metadata": {},
     "output_type": "execute_result"
    }
   ],
   "source": [
    "names = []\n",
    "for i in students:\n",
    "    if len(i) > 1:\n",
    "        s = i.upper().replace(\" \",\"\")\n",
    "        names.append(s)\n",
    "tuple(names)"
   ]
  },
  {
   "cell_type": "markdown",
   "metadata": {},
   "source": [
    "## TASK 6: FOR LOOP WITH ADDED VALUES FROM DICTIONARY\n",
    "\n",
    "### WORK WITH\n",
    " \n",
    "     d1 = {\"k1\": [20, 30, 40], \"k2\": [1000, 2000, 3000]}\n",
    "\n",
    "### DESIRED OUTPUT\n",
    "\n",
    "    Total = 1020\n",
    "    Total = 2030\n",
    "    Total = 3040\n",
    "    End loop\n",
    "\n",
    "### HINTS?\n",
    "\n",
    "    1. Use one for loop with range.\n",
    "    2. Add the values from both keys together"
   ]
  },
  {
   "cell_type": "code",
   "execution_count": 14,
   "metadata": {},
   "outputs": [
    {
     "data": {
      "text/plain": [
       "{'k1': [20, 30, 40], 'k2': [1000, 2000, 3000]}"
      ]
     },
     "execution_count": 14,
     "metadata": {},
     "output_type": "execute_result"
    }
   ],
   "source": [
    "d1 = {\"k1\": [20, 30, 40], \"k2\": [1000, 2000, 3000]}\n",
    "d1"
   ]
  },
  {
   "cell_type": "code",
   "execution_count": 24,
   "metadata": {},
   "outputs": [
    {
     "name": "stdout",
     "output_type": "stream",
     "text": [
      "Total =  1020\n",
      "Total =  2030\n",
      "Total =  3040\n",
      "End loop\n"
     ]
    }
   ],
   "source": [
    "for i in range(3):\n",
    "    print(\"Total = \", d1[\"k1\"][i]  + d1[\"k2\"][i])\n",
    "    \n",
    "print(\"End loop\")"
   ]
  },
  {
   "cell_type": "markdown",
   "metadata": {},
   "source": [
    "## TASK 7: WHILE LOOPS WITH THREE INPUTS\n",
    "\n",
    "### WORK WITH\n",
    "\n",
    "    prices = {\"popcorn\": 5, \"soda\": 2, \"veggie burger\": 7}\n",
    "    total = []\n",
    "\n",
    "    val = 0\n",
    "\n",
    "    while val < 2:\n",
    "        num1 = input(\"Would you like popcorn with the film? \")\n",
    "        if num1 == \"no\":\n",
    "            None\n",
    "        elif num1 == \"quit\":\n",
    "            print(\"Enjoy the film\")\n",
    "            break\n",
    "            break\n",
    "    print(\"That will be $\" + str(sum(total)))\n",
    "    print(\"Enjoy the film!\")\n",
    "    \n",
    "### DESIRED OUTPUT\n",
    "\n",
    "    1st EXAMPLE\n",
    "    Would you like popcorn with the film? no\n",
    "    Would you like a soda drink? no\n",
    "    Would you like a veggie burger?no\n",
    "    That will be $0\n",
    "    Enjoy the film!\n",
    "    2nd EXAMPLE\n",
    "    Would you like popcorn with the film? yes\n",
    "    Would you like a soda drink? yes\n",
    "    Would you like a veggie burger?no\n",
    "    That will be $7\n",
    "    Enjoy the film!\n",
    "    3rd EXAMPLE\n",
    "    Would you like popcorn with the film? quit\n",
    "    Enjoy the film\n",
    "\n",
    "### HINTS?\n",
    "\n",
    "    1. Create two more inputs and name them num2 and num3.\n",
    "    2. For num2, print would you like a soda? and for num3, print would you like a veggie burger?\n",
    "    3. Use the append function three times by grabbing values from the prices dictionary.\n",
    "    4. Use the break statement a total of 4 times.\n",
    "    5. Make sure you have the += 1 to prevent an INFINITE LOOP!\n",
    "    6. Use three else statements."
   ]
  },
  {
   "cell_type": "code",
   "execution_count": 26,
   "metadata": {},
   "outputs": [
    {
     "name": "stdout",
     "output_type": "stream",
     "text": [
      "Would you like popcorn with the film? yes \n",
      "Would you like a soda? yes\n",
      "Would you like a veggie burguer? no\n",
      "That will be $7\n",
      "Enjoy the film!\n"
     ]
    }
   ],
   "source": [
    "prices = {\"popcorn\": 5, \"soda\": 2, \"veggie burger\": 7}\n",
    "total = []\n",
    "val = 0\n",
    "while val < 2:\n",
    "    num1 = input(\"Would you like popcorn with the film? \")\n",
    "    if num1 == \"no\":\n",
    "        None\n",
    "    elif num1 == \"quit\":\n",
    "        print(\"Enjoy the film\")\n",
    "        break\n",
    "    else:\n",
    "        total.append(prices[\"popcorn\"])\n",
    "    num2 = input(\"Would you like a soda? \")\n",
    "    if num2 == \"no\":\n",
    "        None\n",
    "    elif num2 == \"quit\":\n",
    "        print(\"Enjoy the film\")\n",
    "        break\n",
    "    else:\n",
    "        total.append(prices[\"soda\"])\n",
    "        \n",
    "    num3 = input(\"Would you like a veggie burguer? \")\n",
    "    if num3 == \"no\":\n",
    "        None\n",
    "    elif num3 == \"quit\":\n",
    "        print(\"Enjoy the film\")\n",
    "        break\n",
    "    else:\n",
    "        total.append(prices[\"veggie burger\"])\n",
    "    val += 1\n",
    "\n",
    "    print(\"That will be $\" + str(sum(total)))\n",
    "    print(\"Enjoy the film!\")\n",
    "    break"
   ]
  }
 ],
 "metadata": {
  "kernelspec": {
   "display_name": "Python 3",
   "language": "python",
   "name": "python3"
  },
  "language_info": {
   "codemirror_mode": {
    "name": "ipython",
    "version": 3
   },
   "file_extension": ".py",
   "mimetype": "text/x-python",
   "name": "python",
   "nbconvert_exporter": "python",
   "pygments_lexer": "ipython3",
   "version": "3.7.1"
  }
 },
 "nbformat": 4,
 "nbformat_minor": 2
}
