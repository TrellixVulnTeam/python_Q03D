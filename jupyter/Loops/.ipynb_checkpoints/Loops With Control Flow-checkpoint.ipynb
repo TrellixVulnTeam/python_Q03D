{
 "cells": [
  {
   "cell_type": "markdown",
   "metadata": {},
   "source": [
    "# CONTROL FLOW IN LOOPS"
   ]
  },
  {
   "cell_type": "code",
   "execution_count": 1,
   "metadata": {},
   "outputs": [
    {
     "name": "stdout",
     "output_type": "stream",
     "text": [
      "Even number =  0\n",
      "Odd number = 1\n",
      "Even number =  2\n",
      "Odd number = 3\n",
      "Even number =  4\n",
      "Odd number = 5\n",
      "Even number =  6\n",
      "Odd number = 7\n",
      "Even number =  8\n",
      "Odd number = 9\n"
     ]
    }
   ],
   "source": [
    "for i in range(10):\n",
    "    if i% 2 == 0:\n",
    "        print(\"Even number = \", i)\n",
    "    else:\n",
    "        print(\"Odd number =\", i)"
   ]
  },
  {
   "cell_type": "code",
   "execution_count": 2,
   "metadata": {},
   "outputs": [
    {
     "name": "stdout",
     "output_type": "stream",
     "text": [
      "0\n",
      "1\n",
      "2\n",
      "3\n",
      "Morning\n",
      "5\n",
      "6\n",
      "Night!\n"
     ]
    }
   ],
   "source": [
    "for i in range(8):\n",
    "    if i == 4:\n",
    "        print(\"Morning\")\n",
    "    elif i == 7:\n",
    "        print(\"Night!\")\n",
    "    else:\n",
    "        print(i)"
   ]
  },
  {
   "cell_type": "code",
   "execution_count": 3,
   "metadata": {},
   "outputs": [
    {
     "name": "stdout",
     "output_type": "stream",
     "text": [
      "Cool\n",
      "Cool\n",
      "Cool\n",
      "Cool\n",
      "Cool\n",
      "Cool\n",
      "Hello There!\n",
      "Cool\n",
      "Cool\n",
      "Good morning!\n"
     ]
    }
   ],
   "source": [
    "x = 0\n",
    "while x < 10:\n",
    "    if  x == 6:\n",
    "        print(\"Hello There!\")\n",
    "    elif x > 8:\n",
    "        print(\"Good morning!\")\n",
    "    else:\n",
    "        print(\"Cool\")\n",
    "    x += 1"
   ]
  },
  {
   "cell_type": "code",
   "execution_count": 4,
   "metadata": {},
   "outputs": [
    {
     "name": "stdout",
     "output_type": "stream",
     "text": [
      "Cool\n",
      "Cool\n",
      "Cool\n",
      "Cool\n",
      "Cool\n",
      "Cool\n",
      "Hello There!\n",
      "Cool\n",
      "Cool\n",
      "Good morning\n"
     ]
    }
   ],
   "source": [
    "for s in range(10):\n",
    "    if s == 6:\n",
    "        print(\"Hello There!\")\n",
    "    elif s > 8:\n",
    "        print(\"Good morning\")\n",
    "    else:\n",
    "        print(\"Cool\")"
   ]
  },
  {
   "cell_type": "code",
   "execution_count": 5,
   "metadata": {},
   "outputs": [],
   "source": [
    "num = [10,5,20,3,100,4,7]\n",
    "rad = [4,1,40,3,120,5,7]"
   ]
  },
  {
   "cell_type": "code",
   "execution_count": 6,
   "metadata": {},
   "outputs": [
    {
     "name": "stdout",
     "output_type": "stream",
     "text": [
      "Greater\n",
      "Greater\n",
      "Less\n",
      "Equal\n",
      "Less\n",
      "Less\n",
      "Equal\n"
     ]
    }
   ],
   "source": [
    "x = 0 \n",
    "while x < len(num):\n",
    "    if num[x] == rad[x]:\n",
    "        print(\"Equal\")\n",
    "    elif num[x] > rad[x]:\n",
    "        print(\"Greater\")\n",
    "    else:\n",
    "        print(\"Less\")\n",
    "    x += 1"
   ]
  },
  {
   "cell_type": "code",
   "execution_count": 7,
   "metadata": {},
   "outputs": [
    {
     "name": "stdout",
     "output_type": "stream",
     "text": [
      "Greater\n",
      "Greater\n",
      "Less\n",
      "Equal\n",
      "Less\n",
      "Less\n",
      "Equal\n"
     ]
    }
   ],
   "source": [
    "for x in range(len(num)):\n",
    "    if num[x] == rad [x]:\n",
    "        print(\"Equal\")\n",
    "    elif num[x] > rad[x]:\n",
    "        print(\"Greater\")\n",
    "    else:\n",
    "        print(\"Less\")"
   ]
  },
  {
   "cell_type": "code",
   "execution_count": null,
   "metadata": {},
   "outputs": [],
   "source": []
  }
 ],
 "metadata": {
  "kernelspec": {
   "display_name": "Python 3",
   "language": "python",
   "name": "python3"
  },
  "language_info": {
   "codemirror_mode": {
    "name": "ipython",
    "version": 3
   },
   "file_extension": ".py",
   "mimetype": "text/x-python",
   "name": "python",
   "nbconvert_exporter": "python",
   "pygments_lexer": "ipython3",
   "version": "3.7.1"
  }
 },
 "nbformat": 4,
 "nbformat_minor": 2
}
