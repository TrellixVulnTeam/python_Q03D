{
 "cells": [
  {
   "cell_type": "markdown",
   "metadata": {},
   "source": [
    "# ZIP AND ENUMERATE\n",
    "\n",
    "## ZIP\n",
    "    \n",
    "    zip can combine elements from two or more lists into nested tuples\n",
    "    \n",
    "## ENUMERATE\n",
    "    \n",
    "    enumerate can generate an integer number next to each output\n",
    "    \n",
    "## BOTH CAN BE EASILY REPLACED\n",
    "    \n",
    "    "
   ]
  },
  {
   "cell_type": "code",
   "execution_count": 1,
   "metadata": {},
   "outputs": [
    {
     "name": "stdout",
     "output_type": "stream",
     "text": [
      "10\n",
      "15\n",
      "20\n",
      "25\n",
      "30\n",
      "35\n"
     ]
    }
   ],
   "source": [
    "for i in range(10,40,5):\n",
    "    print(i)"
   ]
  },
  {
   "cell_type": "code",
   "execution_count": 3,
   "metadata": {},
   "outputs": [
    {
     "name": "stdout",
     "output_type": "stream",
     "text": [
      "0 10\n",
      "1 15\n",
      "2 20\n",
      "3 25\n",
      "4 30\n",
      "5 35\n"
     ]
    }
   ],
   "source": [
    "for count,i in enumerate(range(10,40,5)):\n",
    "    print(count,i)"
   ]
  },
  {
   "cell_type": "code",
   "execution_count": 4,
   "metadata": {},
   "outputs": [
    {
     "name": "stdout",
     "output_type": "stream",
     "text": [
      "200 10\n",
      "201 15\n",
      "202 20\n",
      "203 25\n",
      "204 30\n",
      "205 35\n"
     ]
    }
   ],
   "source": [
    "for count,i in enumerate(range(10,40,5),200):\n",
    "    print(count,i)"
   ]
  },
  {
   "cell_type": "code",
   "execution_count": 5,
   "metadata": {},
   "outputs": [
    {
     "name": "stdout",
     "output_type": "stream",
     "text": [
      "200 10\n",
      "205 15\n",
      "210 20\n",
      "215 25\n",
      "220 30\n",
      "225 35\n"
     ]
    }
   ],
   "source": [
    "for i in range(10,40,5):\n",
    "    print(190+i,i)"
   ]
  },
  {
   "cell_type": "code",
   "execution_count": 6,
   "metadata": {},
   "outputs": [
    {
     "data": {
      "text/plain": [
       "[(33, 10), (49, 20), (55, 30)]"
      ]
     },
     "execution_count": 6,
     "metadata": {},
     "output_type": "execute_result"
    }
   ],
   "source": [
    "tup1 = (33,49,55)\n",
    "mylist= [10,20,30]\n",
    "z = list(zip(tup1,mylist))\n",
    "z"
   ]
  },
  {
   "cell_type": "code",
   "execution_count": 7,
   "metadata": {},
   "outputs": [
    {
     "data": {
      "text/plain": [
       "list"
      ]
     },
     "execution_count": 7,
     "metadata": {},
     "output_type": "execute_result"
    }
   ],
   "source": [
    "type(z)"
   ]
  },
  {
   "cell_type": "code",
   "execution_count": 8,
   "metadata": {},
   "outputs": [],
   "source": [
    "x = zip(tup1,mylist)"
   ]
  },
  {
   "cell_type": "code",
   "execution_count": 9,
   "metadata": {},
   "outputs": [
    {
     "data": {
      "text/plain": [
       "zip"
      ]
     },
     "execution_count": 9,
     "metadata": {},
     "output_type": "execute_result"
    }
   ],
   "source": [
    "type(x)"
   ]
  },
  {
   "cell_type": "code",
   "execution_count": 10,
   "metadata": {},
   "outputs": [
    {
     "data": {
      "text/plain": [
       "<zip at 0x15d4bf18488>"
      ]
     },
     "execution_count": 10,
     "metadata": {},
     "output_type": "execute_result"
    }
   ],
   "source": [
    "x"
   ]
  },
  {
   "cell_type": "code",
   "execution_count": 11,
   "metadata": {},
   "outputs": [
    {
     "data": {
      "text/plain": [
       "range(0, 5)"
      ]
     },
     "execution_count": 11,
     "metadata": {},
     "output_type": "execute_result"
    }
   ],
   "source": [
    "range(0,5)"
   ]
  },
  {
   "cell_type": "code",
   "execution_count": 12,
   "metadata": {},
   "outputs": [
    {
     "data": {
      "text/plain": [
       "[0, 1, 2, 3, 4]"
      ]
     },
     "execution_count": 12,
     "metadata": {},
     "output_type": "execute_result"
    }
   ],
   "source": [
    "list(range(0,5))"
   ]
  },
  {
   "cell_type": "code",
   "execution_count": 13,
   "metadata": {},
   "outputs": [
    {
     "name": "stdout",
     "output_type": "stream",
     "text": [
      "43\n",
      "69\n",
      "85\n"
     ]
    }
   ],
   "source": [
    "for t, m in z:\n",
    "    print(t+m)"
   ]
  },
  {
   "cell_type": "code",
   "execution_count": 14,
   "metadata": {},
   "outputs": [
    {
     "name": "stdout",
     "output_type": "stream",
     "text": [
      "43\n",
      "69\n",
      "85\n"
     ]
    }
   ],
   "source": [
    "for i in range(3):\n",
    "    print(tup1[i] + mylist[i])"
   ]
  },
  {
   "cell_type": "code",
   "execution_count": 15,
   "metadata": {},
   "outputs": [
    {
     "name": "stdout",
     "output_type": "stream",
     "text": [
      "Apples = 2\n",
      "chips = 3\n",
      "bread = 1.2\n",
      "icecream = 4.25\n"
     ]
    }
   ],
   "source": [
    "groceries = [\"Apples\",\"chips\",\"bread\",\"icecream\"]\n",
    "prices = [2,3,1.2,4.25]\n",
    "\n",
    "for food in range(4):\n",
    "    print(groceries[food],\"=\",prices[food])"
   ]
  },
  {
   "cell_type": "code",
   "execution_count": 16,
   "metadata": {},
   "outputs": [
    {
     "name": "stdout",
     "output_type": "stream",
     "text": [
      "Apples = 2\n",
      "chips = 3\n",
      "bread = 1.2\n",
      "icecream = 4.25\n"
     ]
    }
   ],
   "source": [
    "zip_shop = list(zip(groceries,prices))\n",
    "zip_shop\n",
    "\n",
    "for g,p in zip_shop:\n",
    "    print(g,\"=\",p)"
   ]
  },
  {
   "cell_type": "code",
   "execution_count": 17,
   "metadata": {},
   "outputs": [
    {
     "name": "stdout",
     "output_type": "stream",
     "text": [
      "100\n",
      "7\n",
      "90 90\n",
      "50\n"
     ]
    }
   ],
   "source": [
    "num1 = [100,2,90,10];num2 = [12,7,90,50]\n",
    "\n",
    "zip_num = zip(num1,num2)\n",
    "\n",
    "for i, j in zip_num:\n",
    "    if i > j:\n",
    "        print(i)\n",
    "    elif i < j:\n",
    "        print(j)\n",
    "    else:\n",
    "        print(i,j)"
   ]
  },
  {
   "cell_type": "code",
   "execution_count": 19,
   "metadata": {},
   "outputs": [
    {
     "name": "stdout",
     "output_type": "stream",
     "text": [
      "100\n",
      "7\n",
      "90 90\n",
      "50\n"
     ]
    }
   ],
   "source": [
    "for i in range(4):\n",
    "    if num1[i] > num2[i]:\n",
    "        print(num1[i])\n",
    "    elif num1[i] < num2[i]:\n",
    "        print(num2[i])\n",
    "    else:\n",
    "        print(num1[i],num2[i])"
   ]
  },
  {
   "cell_type": "code",
   "execution_count": 23,
   "metadata": {},
   "outputs": [],
   "source": [
    "numbers = list(range(10,70,10))\n",
    "numbers\n",
    "values = [2,5]\n",
    "numbers\n",
    "\n",
    "zip_val = list(zip(numbers,values))\n",
    "\n",
    "calc = []\n",
    "\n"
   ]
  },
  {
   "cell_type": "code",
   "execution_count": 24,
   "metadata": {},
   "outputs": [
    {
     "data": {
      "text/plain": [
       "[(10, 2), (20, 5)]"
      ]
     },
     "execution_count": 24,
     "metadata": {},
     "output_type": "execute_result"
    }
   ],
   "source": [
    "zip_val"
   ]
  },
  {
   "cell_type": "code",
   "execution_count": 25,
   "metadata": {},
   "outputs": [
    {
     "data": {
      "text/plain": [
       "[10, 20, 30, 40, 50, 60]"
      ]
     },
     "execution_count": 25,
     "metadata": {},
     "output_type": "execute_result"
    }
   ],
   "source": [
    "numbers"
   ]
  },
  {
   "cell_type": "code",
   "execution_count": 28,
   "metadata": {},
   "outputs": [
    {
     "data": {
      "text/plain": [
       "[(10, 2), (20, 5), (30, 2), (40, 5), (50, 2), (60, 5)]"
      ]
     },
     "execution_count": 28,
     "metadata": {},
     "output_type": "execute_result"
    }
   ],
   "source": [
    "import itertools\n",
    "\n",
    "\n",
    "from itertools import cycle as cy\n",
    "\n",
    "zip_val = list(zip(numbers,cy(values)))\n",
    "\n",
    "zip_val"
   ]
  },
  {
   "cell_type": "code",
   "execution_count": 29,
   "metadata": {},
   "outputs": [
    {
     "data": {
      "text/plain": [
       "[20, 100, 60, 200, 100, 300]"
      ]
     },
     "execution_count": 29,
     "metadata": {},
     "output_type": "execute_result"
    }
   ],
   "source": [
    "for n, v in zip_val:\n",
    "    s = n *v\n",
    "    calc.append(s)\n",
    "calc"
   ]
  },
  {
   "cell_type": "code",
   "execution_count": 37,
   "metadata": {},
   "outputs": [
    {
     "data": {
      "text/plain": [
       "[20, 50, 40, 100, 60, 150, 80, 200, 100, 250, 120, 300]"
      ]
     },
     "execution_count": 37,
     "metadata": {},
     "output_type": "execute_result"
    }
   ],
   "source": [
    "val1 = [2]; val2 = [5]\n",
    "\n",
    "\n",
    "zip_val = list(zip(numbers,cy(val1), cy(val2)))\n",
    "calc = []\n",
    "\n",
    "\n",
    "for n, v,z in zip_val:\n",
    "    s = n *v\n",
    "    t=  n *z\n",
    "    calc.append(s)\n",
    "    calc.append(t)\n",
    "calc"
   ]
  },
  {
   "cell_type": "code",
   "execution_count": 38,
   "metadata": {},
   "outputs": [
    {
     "data": {
      "text/plain": [
       "12"
      ]
     },
     "execution_count": 38,
     "metadata": {},
     "output_type": "execute_result"
    }
   ],
   "source": [
    "len(calc)"
   ]
  },
  {
   "cell_type": "code",
   "execution_count": null,
   "metadata": {},
   "outputs": [],
   "source": []
  }
 ],
 "metadata": {
  "kernelspec": {
   "display_name": "Python 3",
   "language": "python",
   "name": "python3"
  },
  "language_info": {
   "codemirror_mode": {
    "name": "ipython",
    "version": 3
   },
   "file_extension": ".py",
   "mimetype": "text/x-python",
   "name": "python",
   "nbconvert_exporter": "python",
   "pygments_lexer": "ipython3",
   "version": "3.7.1"
  }
 },
 "nbformat": 4,
 "nbformat_minor": 2
}
