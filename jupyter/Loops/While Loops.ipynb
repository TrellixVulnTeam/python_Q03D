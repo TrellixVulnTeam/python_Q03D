{
 "cells": [
  {
   "cell_type": "markdown",
   "metadata": {},
   "source": [
    "# WHILE LOOPS\n",
    "\n",
    "Similar to a for loop, while loops output each element, but based on a while statement being True\n",
    "Once the while statement is no longer true, the while loop ends"
   ]
  },
  {
   "cell_type": "code",
   "execution_count": 1,
   "metadata": {},
   "outputs": [
    {
     "name": "stdout",
     "output_type": "stream",
     "text": [
      "0\n",
      "1\n",
      "2\n",
      "3\n",
      "4\n",
      "5\n",
      "6\n",
      "7\n",
      "8\n",
      "9\n",
      "10\n"
     ]
    }
   ],
   "source": [
    "x = 0\n",
    "\n",
    "while x <= 10:\n",
    "    print(x)\n",
    "    x = x + 1 "
   ]
  },
  {
   "cell_type": "code",
   "execution_count": 2,
   "metadata": {},
   "outputs": [
    {
     "name": "stdout",
     "output_type": "stream",
     "text": [
      "10\n",
      "20\n",
      "30\n",
      "40\n",
      "50\n",
      "60\n",
      "70\n",
      "80\n",
      "90\n",
      "100\n"
     ]
    }
   ],
   "source": [
    "x = 10\n",
    "\n",
    "while x <= 100:\n",
    "    print(x)\n",
    "    x += 10 "
   ]
  },
  {
   "cell_type": "code",
   "execution_count": 3,
   "metadata": {},
   "outputs": [
    {
     "name": "stdout",
     "output_type": "stream",
     "text": [
      "The multiplication is:  1\n",
      "The multiplication is:  2\n",
      "The multiplication is:  4\n",
      "The multiplication is:  8\n",
      "The multiplication is:  16\n"
     ]
    }
   ],
   "source": [
    "num = 1\n",
    "\n",
    "while num <20:\n",
    "    print(\"The multiplication is: \",num)\n",
    "    num *=2"
   ]
  },
  {
   "cell_type": "code",
   "execution_count": 2,
   "metadata": {},
   "outputs": [
    {
     "name": "stdout",
     "output_type": "stream",
     "text": [
      "The division is:  1000\n",
      "The division is:  333.3333333333333\n",
      "The division is:  111.1111111111111\n",
      "The division is:  37.03703703703703\n",
      "The division is:  12.345679012345677\n"
     ]
    }
   ],
   "source": [
    "div = 1000\n",
    "while div>10:\n",
    "    print(\"The division is: \", div)\n",
    "    div /= 3"
   ]
  },
  {
   "cell_type": "code",
   "execution_count": 4,
   "metadata": {},
   "outputs": [
    {
     "name": "stdout",
     "output_type": "stream",
     "text": [
      "The division is:  1000 2\n",
      "The division is:  333 2\n",
      "The division is:  111 2\n",
      "The division is:  37 2\n",
      "The division is:  12 2\n"
     ]
    }
   ],
   "source": [
    "div = 1000\n",
    "while div>10:\n",
    "    print(\"The division is: \", round(div), 2)\n",
    "    div /= 3"
   ]
  },
  {
   "cell_type": "code",
   "execution_count": 1,
   "metadata": {},
   "outputs": [
    {
     "name": "stdout",
     "output_type": "stream",
     "text": [
      "The floor is:  200\n",
      "The floor is:  100.0\n",
      "The floor is:  50.0\n",
      "The floor is:  25.0\n",
      "The floor is:  12.5\n"
     ]
    }
   ],
   "source": [
    "floor = 200\n",
    "while floor >10:\n",
    "    print(\"The floor is: \", floor)\n",
    "    floor /= 2"
   ]
  },
  {
   "cell_type": "code",
   "execution_count": 5,
   "metadata": {},
   "outputs": [
    {
     "name": "stdout",
     "output_type": "stream",
     "text": [
      "Count down to lift off in 10 seconds!\n",
      "Count down to lift off in 9 seconds!\n",
      "Count down to lift off in 8 seconds!\n",
      "Count down to lift off in 7 seconds!\n",
      "Count down to lift off in 6 seconds!\n",
      "Count down to lift off in 5 seconds!\n",
      "Count down to lift off in 4 seconds!\n",
      "Count down to lift off in 3 seconds!\n",
      "Count down to lift off in 2 seconds!\n",
      "Count down to lift off in 1 seconds!\n",
      "Blast off\n"
     ]
    }
   ],
   "source": [
    "sub = 10\n",
    "while sub > 0:\n",
    "    print(\"Count down to lift off in\", str(sub) + \" seconds!\")\n",
    "    \n",
    "    sub -=1\n",
    "    if sub == 0:\n",
    "        print(\"Blast off\")"
   ]
  },
  {
   "cell_type": "code",
   "execution_count": 6,
   "metadata": {},
   "outputs": [
    {
     "name": "stdout",
     "output_type": "stream",
     "text": [
      "0 + 0 = 0\n",
      "1 + 1 = 2\n",
      "2 + 2 = 4\n",
      "3 + 3 = 6\n",
      "4 + 4 = 8\n",
      "5 + 5 = 10\n",
      "6 + 6 = 12\n",
      "7 + 7 = 14\n"
     ]
    }
   ],
   "source": [
    "p = 0\n",
    "while p < 8:\n",
    "    print(\"{} + {} = {}\".format(p,p,(p+p)))\n",
    "    p += 1"
   ]
  },
  {
   "cell_type": "code",
   "execution_count": 14,
   "metadata": {},
   "outputs": [
    {
     "name": "stdout",
     "output_type": "stream",
     "text": [
      "1 * 1 = 1.000000\n",
      "2 * 2 = 4.000000\n",
      "3 * 3 = 9.000000\n",
      "4 * 4 = 16.000000\n",
      "5 * 5 = 25.000000\n",
      "6 * 6 = 36.000000\n",
      "7 * 7 = 49.000000\n"
     ]
    }
   ],
   "source": [
    "a = 1\n",
    "\n",
    "while a < 8:\n",
    "    print(\"%d * %d = %f\" %(a,a,(a*a)))\n",
    "    a += 1"
   ]
  },
  {
   "cell_type": "code",
   "execution_count": 15,
   "metadata": {},
   "outputs": [
    {
     "name": "stdout",
     "output_type": "stream",
     "text": [
      "1 / 1.000000 = 1\n",
      "2 / 2.000000 = 1\n",
      "3 / 3.000000 = 1\n",
      "4 / 4.000000 = 1\n",
      "5 / 5.000000 = 1\n",
      "6 / 6.000000 = 1\n",
      "7 / 7.000000 = 1\n",
      "8 / 8.000000 = 1\n",
      "9 / 9.000000 = 1\n",
      "10 / 10.000000 = 1\n",
      "11 / 11.000000 = 1\n",
      "12 / 12.000000 = 1\n",
      "13 / 13.000000 = 1\n",
      "14 / 14.000000 = 1\n"
     ]
    }
   ],
   "source": [
    "p = 1; o =1\n",
    "\n",
    "while p < 15 and o <15:\n",
    "    print(\"%i / %f = %i\" % (p,o,(p/o)))\n",
    "    p += 1; o+=1"
   ]
  },
  {
   "cell_type": "code",
   "execution_count": 1,
   "metadata": {},
   "outputs": [
    {
     "name": "stdout",
     "output_type": "stream",
     "text": [
      "5 + 5 + 5 = 5\n",
      "6 + 6 + 6 = 6\n",
      "7 + 7 + 7 = 7\n",
      "8 + 8 + 8 = 8\n",
      "9 + 9 + 9 = 9\n",
      "10 + 10 + 10 = 10\n",
      "11 + 11 + 11 = 11\n"
     ]
    }
   ],
   "source": [
    "num = 5; cake = 5\n",
    "while num < 12:\n",
    "    while cake < 12:\n",
    "        print(\"{0} + {1} + {0} = {2}\".format(num,cake,num,num+cake))\n",
    "        cake += 1; num +=1"
   ]
  },
  {
   "cell_type": "code",
   "execution_count": 4,
   "metadata": {},
   "outputs": [
    {
     "name": "stdout",
     "output_type": "stream",
     "text": [
      "Java\n",
      "R\n",
      "C#\n",
      "Julia\n",
      "CSS\n",
      "Go\n"
     ]
    }
   ],
   "source": [
    "lang = [\"Python\", \"Java\", \"JavaScript\", \"R\",\"VBA\",\"C#\", \"C++\",\"Julia\", \"HTML\", \"CSS\", \"C\", \"Go\"]\n",
    "\n",
    "x = 1\n",
    "\n",
    "while x <len(lang):\n",
    "    print(lang[x]); x+=2"
   ]
  },
  {
   "cell_type": "code",
   "execution_count": 5,
   "metadata": {},
   "outputs": [
    {
     "name": "stdout",
     "output_type": "stream",
     "text": [
      "0\n",
      "1\n",
      "2\n",
      "3\n",
      "4\n"
     ]
    }
   ],
   "source": [
    "g = 0\n",
    "while g < 5:\n",
    "    print(g)\n",
    "    g += 1"
   ]
  },
  {
   "cell_type": "code",
   "execution_count": 6,
   "metadata": {},
   "outputs": [
    {
     "name": "stdout",
     "output_type": "stream",
     "text": [
      "0\n",
      "1\n",
      "2\n",
      "3\n",
      "4\n"
     ]
    }
   ],
   "source": [
    "for d in range (5):\n",
    "    print(d)"
   ]
  },
  {
   "cell_type": "code",
   "execution_count": 7,
   "metadata": {},
   "outputs": [
    {
     "name": "stdout",
     "output_type": "stream",
     "text": [
      "1 + 1 = 2\n",
      "2 + 2 = 4\n",
      "3 + 3 = 6\n",
      "4 + 4 = 8\n"
     ]
    }
   ],
   "source": [
    "a = 1; b = 1\n",
    "while a < 5: \n",
    "    while b < 5:\n",
    "        print(\"{} + {} = {}\".format(a,a,(b+a)))\n",
    "        a +=1; b +=1"
   ]
  },
  {
   "cell_type": "code",
   "execution_count": 2,
   "metadata": {},
   "outputs": [
    {
     "name": "stdout",
     "output_type": "stream",
     "text": [
      "1 + 1 = 2\n",
      "1 + 2 = 3\n",
      "1 + 3 = 4\n",
      "1 + 4 = 5\n",
      "2 + 1 = 3\n",
      "2 + 2 = 4\n",
      "2 + 3 = 5\n",
      "2 + 4 = 6\n",
      "3 + 1 = 4\n",
      "3 + 2 = 5\n",
      "3 + 3 = 6\n",
      "3 + 4 = 7\n",
      "4 + 1 = 5\n",
      "4 + 2 = 6\n",
      "4 + 3 = 7\n",
      "4 + 4 = 8\n"
     ]
    }
   ],
   "source": [
    "for j in range(1,5):\n",
    "    for k in range(1,5):\n",
    "        print(\"{} + {} = {}\".format(j,k,j+k))"
   ]
  },
  {
   "cell_type": "code",
   "execution_count": 3,
   "metadata": {},
   "outputs": [
    {
     "name": "stdout",
     "output_type": "stream",
     "text": [
      "1 + 1 =) 2\n",
      "2 + 2 =) 4\n",
      "3 + 3 =) 6\n",
      "4 + 4 =) 8\n"
     ]
    }
   ],
   "source": [
    "for t in range(1,5):\n",
    "    print(\"{} + {} =) {}\".format(t,t,t+t))"
   ]
  },
  {
   "cell_type": "code",
   "execution_count": 10,
   "metadata": {},
   "outputs": [
    {
     "name": "stdout",
     "output_type": "stream",
     "text": [
      "While num1 = 0\n",
      "50\n",
      "80\n",
      "110\n",
      "While num1 = 20\n",
      "70\n",
      "100\n",
      "130\n",
      "While num1 = 40\n",
      "90\n",
      "120\n",
      "150\n",
      "While num1 = 60\n",
      "110\n",
      "140\n",
      "170\n",
      "While num1 = 80\n",
      "130\n",
      "160\n",
      "190\n",
      "While num1 = 100\n",
      "150\n",
      "180\n",
      "210\n"
     ]
    }
   ],
   "source": [
    "num1 = 0\n",
    "while num1 < 120:\n",
    "    print(\"While num1 =\", num1)\n",
    "    for g in [50,80,110]:\n",
    "        res = num1 + g\n",
    "        print(res)\n",
    "    num1 += 20"
   ]
  },
  {
   "cell_type": "code",
   "execution_count": null,
   "metadata": {},
   "outputs": [],
   "source": []
  }
 ],
 "metadata": {
  "kernelspec": {
   "display_name": "Python 3",
   "language": "python",
   "name": "python3"
  },
  "language_info": {
   "codemirror_mode": {
    "name": "ipython",
    "version": 3
   },
   "file_extension": ".py",
   "mimetype": "text/x-python",
   "name": "python",
   "nbconvert_exporter": "python",
   "pygments_lexer": "ipython3",
   "version": "3.7.1"
  }
 },
 "nbformat": 4,
 "nbformat_minor": 2
}
