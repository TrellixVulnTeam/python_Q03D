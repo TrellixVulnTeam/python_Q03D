{
 "cells": [
  {
   "cell_type": "markdown",
   "metadata": {},
   "source": [
    "# FOR LOOPS (LISTS, TUPLES AND DICTIONARIES)\n",
    "\n",
    "for loops iterate over elements from a sequence (list, tuple or dictionary)\n",
    "Outputs all the elements from the sequence"
   ]
  },
  {
   "cell_type": "code",
   "execution_count": 1,
   "metadata": {},
   "outputs": [
    {
     "name": "stdout",
     "output_type": "stream",
     "text": [
      "0\n",
      "2\n",
      "4\n",
      "6\n",
      "8\n",
      "10\n"
     ]
    }
   ],
   "source": [
    "for cake in range(0,11,2):\n",
    "    print(cake)"
   ]
  },
  {
   "cell_type": "code",
   "execution_count": 2,
   "metadata": {},
   "outputs": [
    {
     "name": "stdout",
     "output_type": "stream",
     "text": [
      "Hello world\n",
      "Hello world\n",
      "Hello world\n",
      "Hello world\n"
     ]
    }
   ],
   "source": [
    "for greeting in range(4):\n",
    "    print(\"Hello world\")"
   ]
  },
  {
   "cell_type": "code",
   "execution_count": 3,
   "metadata": {},
   "outputs": [
    {
     "name": "stdout",
     "output_type": "stream",
     "text": [
      "tiger\n",
      "lion\n",
      "jaguar\n",
      "leopard\n"
     ]
    }
   ],
   "source": [
    "cats = [\"tiger\",\"lion\",\"jaguar\",\"leopard\"]\n",
    "\n",
    "for cat in cats: \n",
    "    print(cat)"
   ]
  },
  {
   "cell_type": "code",
   "execution_count": 4,
   "metadata": {},
   "outputs": [
    {
     "name": "stdout",
     "output_type": "stream",
     "text": [
      "0 30\n",
      "1 31\n",
      "2 32\n",
      "3 33\n"
     ]
    }
   ],
   "source": [
    "for num in range(4):\n",
    "    print(num,num+30)"
   ]
  },
  {
   "cell_type": "code",
   "execution_count": 5,
   "metadata": {},
   "outputs": [
    {
     "name": "stdout",
     "output_type": "stream",
     "text": [
      "0 30 0\n",
      "1 31 1\n",
      "2 32 4\n",
      "3 33 9\n"
     ]
    }
   ],
   "source": [
    "for num in range(4):\n",
    "    print(num,num+30, num*num)"
   ]
  },
  {
   "cell_type": "code",
   "execution_count": 7,
   "metadata": {},
   "outputs": [
    {
     "name": "stdout",
     "output_type": "stream",
     "text": [
      "[10, 20, 30]\n",
      "[3.5, 4.5, 5.5]\n",
      "['sword', 'hammer', 'shield']\n"
     ]
    }
   ],
   "source": [
    "nest1 = [[10,20,30],[3.5,4.5,5.5],[\"sword\",\"hammer\",\"shield\"]]\n",
    "\n",
    "for i in range(3):\n",
    "    print(nest1[i])"
   ]
  },
  {
   "cell_type": "code",
   "execution_count": 8,
   "metadata": {},
   "outputs": [
    {
     "name": "stdout",
     "output_type": "stream",
     "text": [
      "0\n",
      "1\n",
      "2\n"
     ]
    }
   ],
   "source": [
    "for i in range(3):\n",
    "    print(i)"
   ]
  },
  {
   "cell_type": "code",
   "execution_count": 10,
   "metadata": {},
   "outputs": [
    {
     "name": "stdout",
     "output_type": "stream",
     "text": [
      "Sword: Power level = 13.5\n",
      "Hammer: Power level = 24.5\n",
      "Shield: Power level = 35.5\n"
     ]
    }
   ],
   "source": [
    "for i in range(3):\n",
    "    res = nest1[0][i] + nest1[1][i]\n",
    "    \n",
    "    print(nest1[2][i].capitalize() + \": Power level =\",res)"
   ]
  },
  {
   "cell_type": "code",
   "execution_count": 14,
   "metadata": {},
   "outputs": [
    {
     "data": {
      "text/plain": [
       "'Shield: Power level = 35.5'"
      ]
     },
     "execution_count": 14,
     "metadata": {},
     "output_type": "execute_result"
    }
   ],
   "source": [
    "weapons = []\n",
    "\n",
    "for i in range(3):\n",
    "    s = nest1[2][i].capitalize() + \": Power level = \" + str(nest1[0][i] + nest1[1][i])\n",
    "    weapons.append(s)\n",
    "    \n",
    "weapons\n",
    "weapons[2]"
   ]
  },
  {
   "cell_type": "code",
   "execution_count": 18,
   "metadata": {},
   "outputs": [
    {
     "name": "stdout",
     "output_type": "stream",
     "text": [
      "1 * 1 = 1\n",
      "2 * 2 = 4\n",
      "3 * 3 = 9\n",
      "4 * 4 = 16\n",
      "5 * 5 = 25\n",
      "6 * 6 = 36\n",
      "7 * 7 = 49\n"
     ]
    }
   ],
   "source": [
    "for i in range(1,8):\n",
    "    print(\"{} * {} = {}\".format(i,i,(i*i)))"
   ]
  },
  {
   "cell_type": "code",
   "execution_count": 19,
   "metadata": {},
   "outputs": [
    {
     "name": "stdout",
     "output_type": "stream",
     "text": [
      "1 * 1 = 1\n",
      "2 * 2 = 4\n",
      "3 * 3 = 9\n",
      "4 * 4 = 16\n",
      "5 * 5 = 25\n",
      "6 * 6 = 36\n",
      "7 * 7 = 49\n"
     ]
    }
   ],
   "source": [
    "for k in range(1,8):\n",
    "    print(\"%d * %d = %d\" %(k,k,(k*k)))"
   ]
  },
  {
   "cell_type": "code",
   "execution_count": 21,
   "metadata": {},
   "outputs": [
    {
     "name": "stdout",
     "output_type": "stream",
     "text": [
      "1.000000 * 1.000000 = 1.000000\n",
      "2.000000 * 2.000000 = 4.000000\n",
      "3.000000 * 3.000000 = 9.000000\n",
      "4.000000 * 4.000000 = 16.000000\n",
      "5.000000 * 5.000000 = 25.000000\n",
      "6.000000 * 6.000000 = 36.000000\n",
      "7.000000 * 7.000000 = 49.000000\n"
     ]
    }
   ],
   "source": [
    "for k in range(1,8):\n",
    "    print(\"%f * %f = %f\" %(k,k,(k*k)))"
   ]
  },
  {
   "cell_type": "code",
   "execution_count": 22,
   "metadata": {},
   "outputs": [
    {
     "name": "stdout",
     "output_type": "stream",
     "text": [
      "10 20\n",
      "a b\n",
      "200 400\n"
     ]
    }
   ],
   "source": [
    "tup1 = ((10,20),(\"a\",\"b\"),(200,400))\n",
    "# TUPLE UNPACKING\n",
    "for x,y in tup1:\n",
    "    print(x,y)"
   ]
  },
  {
   "cell_type": "code",
   "execution_count": 24,
   "metadata": {},
   "outputs": [
    {
     "name": "stdout",
     "output_type": "stream",
     "text": [
      "10 20 30\n",
      "a b c\n",
      "200 400 500\n"
     ]
    }
   ],
   "source": [
    "tup1 = ((10,20,30),(\"a\",\"b\",\"c\"),(200,400,500))\n",
    "# TUPLE UNPACKING\n",
    "for x,y,z in tup1:\n",
    "    print(x,y,z)"
   ]
  },
  {
   "cell_type": "code",
   "execution_count": 26,
   "metadata": {},
   "outputs": [
    {
     "name": "stdout",
     "output_type": "stream",
     "text": [
      "10 20 30\n",
      "a b c\n",
      "200 400 500\n",
      "10 20 30\n",
      "a b c\n",
      "200 400 500\n"
     ]
    }
   ],
   "source": [
    "tup1 = ((10,20,30),(\"a\",\"b\",\"c\"),(200,400,500))\n",
    "# TUPLE UNPACKING\n",
    "for i in range(2):\n",
    "    for x,y,z in tup1:\n",
    "        print(x,y,z)"
   ]
  },
  {
   "cell_type": "code",
   "execution_count": 28,
   "metadata": {},
   "outputs": [
    {
     "data": {
      "text/plain": [
       "('chocolate', 'lemon', 'carrot', 'vanilla')"
      ]
     },
     "execution_count": 28,
     "metadata": {},
     "output_type": "execute_result"
    }
   ],
   "source": [
    "cakes = [\"chocolate\",\"lemon\",\"carrot\",\"vanilla\"]\n",
    "\n",
    "d1 = {\"k1\": tuple(cakes), \"k2\":[10,20,30,40]}\n",
    "d1\n",
    "d1[\"k1\"]"
   ]
  },
  {
   "cell_type": "code",
   "execution_count": 29,
   "metadata": {},
   "outputs": [
    {
     "name": "stdout",
     "output_type": "stream",
     "text": [
      "chocolate\n",
      "lemon\n",
      "carrot\n",
      "vanilla\n"
     ]
    }
   ],
   "source": [
    "for d in d1[\"k1\"]:\n",
    "    print(d)"
   ]
  },
  {
   "cell_type": "code",
   "execution_count": 30,
   "metadata": {},
   "outputs": [
    {
     "name": "stdout",
     "output_type": "stream",
     "text": [
      "k1 : chocolate\n",
      "k1 : lemon\n",
      "k1 : carrot\n",
      "k1 : vanilla\n",
      "k2 : 10\n",
      "k2 : 20\n",
      "k2 : 30\n",
      "k2 : 40\n"
     ]
    }
   ],
   "source": [
    "for x in d1: \n",
    "    for i in range(4):\n",
    "        print(x,\":\",d1[x][i])"
   ]
  },
  {
   "cell_type": "code",
   "execution_count": 32,
   "metadata": {},
   "outputs": [
    {
     "name": "stdout",
     "output_type": "stream",
     "text": [
      "Tiger \n",
      " Level: \n",
      " SERIES\n",
      "Lion \n",
      " Level: \n",
      " CRITICAL\n",
      "Jaguar \n",
      " Level: \n",
      " VERY CRITICAL\n",
      "Leopard \n",
      " Level: \n",
      " STABLE\n"
     ]
    }
   ],
   "source": [
    "cats\n",
    "endangered = [\"series\", \"critical\", \"very critical\", \"stable\"]\n",
    "\n",
    "for c in range(4):\n",
    "    print(cats[c].capitalize(), \"\\n Level: \\n\", endangered[c].upper())"
   ]
  },
  {
   "cell_type": "code",
   "execution_count": null,
   "metadata": {},
   "outputs": [],
   "source": []
  }
 ],
 "metadata": {
  "kernelspec": {
   "display_name": "Python 3",
   "language": "python",
   "name": "python3"
  },
  "language_info": {
   "codemirror_mode": {
    "name": "ipython",
    "version": 3
   },
   "file_extension": ".py",
   "mimetype": "text/x-python",
   "name": "python",
   "nbconvert_exporter": "python",
   "pygments_lexer": "ipython3",
   "version": "3.7.1"
  }
 },
 "nbformat": 4,
 "nbformat_minor": 2
}
