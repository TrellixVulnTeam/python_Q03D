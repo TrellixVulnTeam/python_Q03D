{
 "cells": [
  {
   "cell_type": "markdown",
   "metadata": {},
   "source": [
    "# TRY, EXCEPT AND FINALLY\n",
    "\n",
    "    Python will output different types of error notifications. These include:\n",
    "\n",
    "    TypeError\n",
    "    NameError\n",
    "    AttributeError\n",
    "    IndentationError\n",
    "    SyntaxError\n",
    "\n",
    "\n",
    "    Python allows us to manage the output error instead of realying on Python itself\n",
    "    This is where try, except and finally clauses come in\n",
    "    These clauses can prevent errors from being fatal to your code\n",
    "\n"
   ]
  },
  {
   "cell_type": "code",
   "execution_count": 1,
   "metadata": {},
   "outputs": [
    {
     "ename": "TypeError",
     "evalue": "unsupported operand type(s) for +: 'int' and 'str'",
     "output_type": "error",
     "traceback": [
      "\u001b[1;31m---------------------------------------------------------------------------\u001b[0m",
      "\u001b[1;31mTypeError\u001b[0m                                 Traceback (most recent call last)",
      "\u001b[1;32m<ipython-input-1-adbbbfda6628>\u001b[0m in \u001b[0;36m<module>\u001b[1;34m\u001b[0m\n\u001b[1;32m----> 1\u001b[1;33m \u001b[1;36m10\u001b[0m \u001b[1;33m+\u001b[0m \u001b[1;34m\"90\"\u001b[0m\u001b[1;33m\u001b[0m\u001b[1;33m\u001b[0m\u001b[0m\n\u001b[0m",
      "\u001b[1;31mTypeError\u001b[0m: unsupported operand type(s) for +: 'int' and 'str'"
     ]
    }
   ],
   "source": [
    "10 + \"90\""
   ]
  },
  {
   "cell_type": "code",
   "execution_count": 4,
   "metadata": {},
   "outputs": [
    {
     "name": "stdout",
     "output_type": "stream",
     "text": [
      "0\n",
      "1\n",
      "2\n",
      "End code\n"
     ]
    }
   ],
   "source": [
    "try:\n",
    "    10 + \"90\"\n",
    "except:\n",
    "    for i in range(3):\n",
    "        print(i)\n",
    "finally:\n",
    "    print(\"End code\")"
   ]
  },
  {
   "cell_type": "code",
   "execution_count": 5,
   "metadata": {},
   "outputs": [
    {
     "name": "stdout",
     "output_type": "stream",
     "text": [
      "Type Error found!\n",
      "String: 10 hello\n",
      "End code\n"
     ]
    }
   ],
   "source": [
    "def error(var):\n",
    "    try:\n",
    "        return 10 + var\n",
    "    except:\n",
    "        print(\"Type Error found!\")\n",
    "        print(\"String: \" + str(10) + \" \" + var)\n",
    "    finally:\n",
    "        print(\"End code\")\n",
    "\n",
    "error(\"hello\")"
   ]
  },
  {
   "cell_type": "code",
   "execution_count": 8,
   "metadata": {},
   "outputs": [
    {
     "name": "stdout",
     "output_type": "stream",
     "text": [
      "Divisio by zero is forbidden!\n",
      "Executing finally clause\n"
     ]
    }
   ],
   "source": [
    "def divide(x, y ):\n",
    "    try:\n",
    "        res = x/y\n",
    "        return res\n",
    "    except ZeroDivisionError:\n",
    "        print(\"Divisio by zero is forbidden!\")\n",
    "    except TypeError:\n",
    "        print(\"Can't be divided or divide by a string\")\n",
    "    finally:\n",
    "        print(\"Executing finally clause\")\n",
    "        \n",
    "divide(10,0)"
   ]
  },
  {
   "cell_type": "code",
   "execution_count": 9,
   "metadata": {},
   "outputs": [
    {
     "name": "stdout",
     "output_type": "stream",
     "text": [
      "Enter a valid integer:9.00\n",
      "Invalid Input!\n",
      "Enter a valid integer:1\n"
     ]
    }
   ],
   "source": [
    "while True:\n",
    "    try:\n",
    "        x = int(input(\"Enter a valid integer:\"))\n",
    "        break\n",
    "    except:\n",
    "        print(\"Invalid Input!\")"
   ]
  },
  {
   "cell_type": "code",
   "execution_count": 10,
   "metadata": {},
   "outputs": [
    {
     "data": {
      "text/plain": [
       "(10, 20, 30, 40)"
      ]
     },
     "execution_count": 10,
     "metadata": {},
     "output_type": "execute_result"
    }
   ],
   "source": [
    "numbers = 10,20,30,40\n",
    "\n",
    "numbers"
   ]
  },
  {
   "cell_type": "code",
   "execution_count": 13,
   "metadata": {},
   "outputs": [
    {
     "name": "stdout",
     "output_type": "stream",
     "text": [
      "Enter an integer: 1\n",
      "Not in numbers list\n",
      "End Code!\n",
      "Enter an integer: 10\n",
      "10  is in number\n",
      "End Code!\n"
     ]
    }
   ],
   "source": [
    "while True:\n",
    "    try:\n",
    "        num = input(\"Enter an integer: \")\n",
    "        if eval(num) in numbers:\n",
    "            print(num, \" is in number\")\n",
    "            break\n",
    "        elif num == \"quit\":\n",
    "            break\n",
    "        else:\n",
    "            print(\"Not in numbers list\")\n",
    "    except:\n",
    "        print(\"Try again, please!\")\n",
    "        continue\n",
    "    finally: \n",
    "        print(\"End Code!\")"
   ]
  },
  {
   "cell_type": "code",
   "execution_count": 15,
   "metadata": {},
   "outputs": [
    {
     "name": "stdout",
     "output_type": "stream",
     "text": [
      "Enter an integer: 1\n",
      "Not in numbers list\n",
      "Enter an integer: 2\n",
      "Not in numbers list\n",
      "Enter an integer: 3\n",
      "Not in numbers list\n"
     ]
    }
   ],
   "source": [
    "chance = 0\n",
    "while chance < 3:\n",
    "    try:\n",
    "        num = input(\"Enter an integer: \")\n",
    "        if eval(num) in numbers:\n",
    "            print(num, \" is in number\")\n",
    "            break\n",
    "        elif num == \"quit\":\n",
    "            break\n",
    "        else:\n",
    "            print(\"Not in numbers list\")\n",
    "            chance = chance + 1\n",
    "    except:\n",
    "        print(\"Try again, please!\")\n",
    "        chance = chance + 1\n",
    "        continue\n",
    "    #finally: \n",
    "     #   print(\"End Code!\")"
   ]
  },
  {
   "cell_type": "code",
   "execution_count": 26,
   "metadata": {},
   "outputs": [],
   "source": [
    "def friends():\n",
    "    animals = \"bird\",\"cat\",\"dog\",\"cow\",\"lamb\",\"pig\"\n",
    "    try:\n",
    "        num = int(eval(input(\"Please select a friend: \")))\n",
    "        \n",
    "        try:\n",
    "            if animals[num] in animals:\n",
    "                print(animals[num])\n",
    "        except:\n",
    "            print (\"You did not choose a friend\")\n",
    "        finally:\n",
    "            print(\"_______\")\n",
    "            for pet in animals:\n",
    "                print(pet)\n",
    "            print(\"___END LOOP___\")\n",
    "                \n",
    "    except:\n",
    "        print(\"You did not enter a valid index\")"
   ]
  },
  {
   "cell_type": "code",
   "execution_count": 27,
   "metadata": {},
   "outputs": [
    {
     "name": "stdout",
     "output_type": "stream",
     "text": [
      "Please select a friend: 1\n",
      "cat\n",
      "_______\n",
      "bird\n",
      "cat\n",
      "dog\n",
      "cow\n",
      "lamb\n",
      "pig\n",
      "___END LOOP___\n"
     ]
    }
   ],
   "source": [
    "friends()"
   ]
  },
  {
   "cell_type": "code",
   "execution_count": null,
   "metadata": {},
   "outputs": [],
   "source": []
  }
 ],
 "metadata": {
  "kernelspec": {
   "display_name": "Python 3",
   "language": "python",
   "name": "python3"
  },
  "language_info": {
   "codemirror_mode": {
    "name": "ipython",
    "version": 3
   },
   "file_extension": ".py",
   "mimetype": "text/x-python",
   "name": "python",
   "nbconvert_exporter": "python",
   "pygments_lexer": "ipython3",
   "version": "3.7.1"
  }
 },
 "nbformat": 4,
 "nbformat_minor": 2
}
