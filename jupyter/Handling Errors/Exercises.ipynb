{
 "cells": [
  {
   "cell_type": "markdown",
   "metadata": {},
   "source": [
    "# ERRORS, LAMBDA, AND LOOP EXERCISE\n",
    "\n",
    "## TASK 1: CONVERT FUNCTIONS INTO LAMBDA EXPRESSIONS\n",
    "\n",
    "### WORK WITH\n",
    "\n",
    "    1.\n",
    "    def mul(num1= 5, num2= 20, num3= 100):\n",
    "    return num1 + num2 + num3\n",
    "    2.\n",
    "    bowl = [\"cherries\", \"orange\", \"apple\", \"melon\", \"figs\"]\n",
    "    def salad(fruit):\n",
    "    if fruit in bowl:\n",
    "    print(fruit)\n",
    "    else:\n",
    "    print(\"not in bowl\")\n",
    "    3.\n",
    "    def inside(num):\n",
    "    if num in list(range(10)):\n",
    "    return num**2\n",
    "    else:\n",
    "    print(\"outside\")\n",
    "\n",
    "### DESIRED OUTPUTS\n",
    "\n",
    "    1. 125 mul() parameters are left empty.\n",
    "    2. 'not in bowl' or 'apple'\n",
    "    3. 16 or \"outside\"\n",
    "\n",
    "### HINTS?\n",
    "    \n",
    "    1. For two of the lambda expresions, use control flow.\n",
    "    2. For the first lambda expression, set three default values.\n",
    "    3. Use the in statement."
   ]
  },
  {
   "cell_type": "code",
   "execution_count": 1,
   "metadata": {},
   "outputs": [],
   "source": [
    "mul = lambda num1 = 5 , num2 = 20, num3 = 100: num1+num2+num3"
   ]
  },
  {
   "cell_type": "code",
   "execution_count": 2,
   "metadata": {},
   "outputs": [
    {
     "data": {
      "text/plain": [
       "125"
      ]
     },
     "execution_count": 2,
     "metadata": {},
     "output_type": "execute_result"
    }
   ],
   "source": [
    "mul()"
   ]
  },
  {
   "cell_type": "code",
   "execution_count": 3,
   "metadata": {},
   "outputs": [
    {
     "data": {
      "text/plain": [
       "'not in bowl'"
      ]
     },
     "execution_count": 3,
     "metadata": {},
     "output_type": "execute_result"
    }
   ],
   "source": [
    "bowl = [\"cherries\",\"orange\",\"apple\",\"melon\",\"figs\"]\n",
    "salad = lambda x: \"fruit\" if x in bowl else \"not in bowl\"\n",
    "\n",
    "salad(\"mango\")"
   ]
  },
  {
   "cell_type": "code",
   "execution_count": 4,
   "metadata": {},
   "outputs": [
    {
     "data": {
      "text/plain": [
       "9"
      ]
     },
     "execution_count": 4,
     "metadata": {},
     "output_type": "execute_result"
    }
   ],
   "source": [
    "inside = lambda num: num ** 2 if num in range(10) else \"outside\"\n",
    "inside(3)"
   ]
  },
  {
   "cell_type": "code",
   "execution_count": 5,
   "metadata": {},
   "outputs": [
    {
     "data": {
      "text/plain": [
       "'outside'"
      ]
     },
     "execution_count": 5,
     "metadata": {},
     "output_type": "execute_result"
    }
   ],
   "source": [
    "inside(10)"
   ]
  },
  {
   "cell_type": "markdown",
   "metadata": {},
   "source": [
    "## TASK 2: HANDLING ERRORS WITH LAMBDA AND WHILE LOOP\n",
    "\n",
    "### WORK WITH\n",
    "    \n",
    "    while True:\n",
    "    try:\n",
    "    val = int(eval(input(\"Enter an integer: \")))\n",
    "    g = lamda x: x*3 if x > 10 else \"too low\"\n",
    "    ### CONTROL FLOW GOES HERE ####\n",
    "    g(val) > 20\n",
    "    #################################\n",
    "    except:\n",
    "    continue\n",
    "    finally:\n",
    "\n",
    "### DESIRED OUTPUTS\n",
    "\n",
    "    Enter an integer: 1\n",
    "    Try again please\n",
    "    End code\n",
    "    Enter an integer: 10\n",
    "    Try again please\n",
    "    End code\n",
    "    Enter an integer: 12.12345\n",
    "    Lambda is 36\n",
    "    Input value is 12\n",
    "    End code\n",
    "\n",
    "### HINTS?\n",
    "    \n",
    "    1. Use a break and continue statement.\n",
    "    2. Use conditional operator where g(val) > 20.\n",
    "    3. Put the completed code in a function called error() and run it."
   ]
  },
  {
   "cell_type": "code",
   "execution_count": 1,
   "metadata": {},
   "outputs": [
    {
     "name": "stdout",
     "output_type": "stream",
     "text": [
      "Enter an integer1\n",
      "Try again, please\n",
      "End code\n",
      "Enter an integer10\n",
      "Try again, please\n",
      "End code\n",
      "Enter an integer12.123456\n",
      "Lambda is 36\n",
      "Input value is 12\n",
      "End code\n"
     ]
    }
   ],
   "source": [
    "def error ():\n",
    "    while True:\n",
    "        try:\n",
    "            val = int(eval(input(\"Enter an integer\")))\n",
    "            g = lambda x: x*3 if x >10 else \"too low\"\n",
    "            \n",
    "            if g(val) > 20:\n",
    "                print(\"Lambda is\",g(val))\n",
    "                print(\"Input value is\",val)\n",
    "                break\n",
    "            else:\n",
    "                print(\"No output\")\n",
    "                \n",
    "        except:\n",
    "            print(\"Try again, please\")\n",
    "            continue\n",
    "        finally:\n",
    "            print(\"End code\")\n",
    "    \n",
    "error()"
   ]
  },
  {
   "cell_type": "markdown",
   "metadata": {},
   "source": [
    "## TASK 3: USE FOR LOOPS WITH LAMBDA\n",
    "\n",
    "### WORK WITH\n",
    "    \n",
    "    g = lambda x: x**2 if x > 5 in range(10) else 0\n",
    "\n",
    "### DESIRED OUTPUTS\n",
    "    \n",
    "    Where g(9): Where g(3):\n",
    "    Where g(9): Where g(3):\n",
    "    100 81 100 0\n",
    "    101 82 101 1\n",
    "    102 83 102 2\n",
    "    103 84 103 3\n",
    "    104 85 104 4\n",
    "    105 86 105 5\n",
    "    106 87 106 6\n",
    "    107 88 107 7\n",
    "    108 89 108 8\n",
    "    109 90 109 9\n",
    "\n",
    "### HINTS?\n",
    "    \n",
    "    1. Use a for loop with a range 0 to 10.\n",
    "    2. Use print and add 100 to one of the output values.\n",
    "    3. Use two +."
   ]
  },
  {
   "cell_type": "code",
   "execution_count": 2,
   "metadata": {},
   "outputs": [
    {
     "name": "stdout",
     "output_type": "stream",
     "text": [
      "100 81\n",
      "101 82\n",
      "102 83\n",
      "103 84\n",
      "104 85\n",
      "105 86\n",
      "106 87\n",
      "107 88\n",
      "108 89\n",
      "109 90\n"
     ]
    }
   ],
   "source": [
    "g = lambda x: x**2 if x > 5 in range(10) else 0\n",
    "\n",
    "for i in range(10):\n",
    "    print(i+100, i+g(9))\n",
    "    "
   ]
  },
  {
   "cell_type": "markdown",
   "metadata": {},
   "source": [
    "## TASK 4: FOR LOOP AND LIST COMPREHENSION\n",
    "\n",
    "### WORK WITH\n",
    "    \n",
    "    critics = (\"Mustafa\", \"Michael\", \"Callum\", \"George\")\n",
    "    films = [\"Akira\", \"Blade Runner 2049\", \"Mr. Robot\", \"The Ten\n",
    "    Commandments\"]\n",
    "\n",
    "### DESIRED OUTPUTS\n",
    "    \n",
    "    [\"Mustafa's favourite film is Akira\",\n",
    "    \"Michael's favourite film is Blade Runner 2049\",\n",
    "    \"Callum's favourite film is Mr. Robot\",\n",
    "    \"George's favourite film is The Ten Commandments\"]\n",
    "\n",
    "### HINTS?\n",
    "    \n",
    "    1.No hints required!"
   ]
  },
  {
   "cell_type": "code",
   "execution_count": 4,
   "metadata": {},
   "outputs": [],
   "source": [
    "critics = (\"Mustafa\", \"Michael\", \"Callum\", \"George\")\n",
    "films = [\"Akira\", \"Blade Runner 2049\", \"Mr. Robot\", \"The Ten Commandments\"]"
   ]
  },
  {
   "cell_type": "code",
   "execution_count": 7,
   "metadata": {},
   "outputs": [
    {
     "data": {
      "text/plain": [
       "[\"Mustafa's favourte film is Akira\",\n",
       " \"Michael's favourte film is Blade Runner 2049\",\n",
       " \"Callum's favourte film is Mr. Robot\",\n",
       " \"George's favourte film is The Ten Commandments\"]"
      ]
     },
     "execution_count": 7,
     "metadata": {},
     "output_type": "execute_result"
    }
   ],
   "source": [
    "opinion = []\n",
    "\n",
    "for i in range(4):\n",
    "    fave = critics[i] + \"'s favourte film is \" + films[i]\n",
    "    opinion.append(fave)\n",
    "    \n",
    "opinion"
   ]
  },
  {
   "cell_type": "code",
   "execution_count": 8,
   "metadata": {},
   "outputs": [
    {
     "data": {
      "text/plain": [
       "[\"Mustafa's favourite film is Akira\",\n",
       " \"Michael's favourite film is Blade Runner 2049\",\n",
       " \"Callum's favourite film is Mr. Robot\",\n",
       " \"George's favourite film is The Ten Commandments\"]"
      ]
     },
     "execution_count": 8,
     "metadata": {},
     "output_type": "execute_result"
    }
   ],
   "source": [
    "[critics[i] + \"'s favourite film is \" + films[i] for i in range(4)]"
   ]
  },
  {
   "cell_type": "code",
   "execution_count": null,
   "metadata": {},
   "outputs": [],
   "source": []
  }
 ],
 "metadata": {
  "kernelspec": {
   "display_name": "Python 3",
   "language": "python",
   "name": "python3"
  },
  "language_info": {
   "codemirror_mode": {
    "name": "ipython",
    "version": 3
   },
   "file_extension": ".py",
   "mimetype": "text/x-python",
   "name": "python",
   "nbconvert_exporter": "python",
   "pygments_lexer": "ipython3",
   "version": "3.7.1"
  }
 },
 "nbformat": 4,
 "nbformat_minor": 2
}
