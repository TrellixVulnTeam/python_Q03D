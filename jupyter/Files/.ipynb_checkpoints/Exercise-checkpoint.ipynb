{
 "cells": [
  {
   "cell_type": "markdown",
   "metadata": {},
   "source": [
    "# FILES EXERCISE\n",
    "\n",
    "## TASK 1: COMPARE TWO TXT FILES\n",
    "\n",
    "### WORK WITH\n",
    "    \n",
    "    d = open(\"rain.txt\", \"w\")\n",
    "    d.write(\"Hi\")\n",
    "    d.write(\"\\nfood is hot\"*2)\n",
    "    d.write(\"\\nsunny day\"*4)\n",
    "    d.close()\n",
    "    e = open(\"cloud.txt\", \"w\")\n",
    "    e.write(\"Hi\")\n",
    "    e.write(\"\\nfood is cold\"*2)\n",
    "    e.write(\"\\nsunny day\"*4)\n",
    "    e.close()\n",
    "\n",
    "### DESIRED OUTPUT\n",
    "    \n",
    "    True\n",
    "    False\n",
    "    False\n",
    "    True\n",
    "    True\n",
    "    True\n",
    "\n",
    "### HINTS?\n",
    "    \n",
    "    1. Use a for loop with range\n",
    "    2. Use a comparison operator\n",
    "    3. Use control flow that prints either True or False.\n",
    "    4. You should have no more than 5 lines of code, but 11 is acceptable.\n",
    "    5. Use a print statement with a for loop\n",
    "    6. Make sure to use the close method for both txt files!"
   ]
  },
  {
   "cell_type": "code",
   "execution_count": 1,
   "metadata": {},
   "outputs": [],
   "source": [
    "d = open(\"rain.txt\", \"w\")\n",
    "d.write(\"Hi\")\n",
    "d.write(\"\\nfood is hot\"*2)\n",
    "d.write(\"\\nsunny day\"*4)\n",
    "d.close()\n",
    "e = open(\"cloud.txt\", \"w\")\n",
    "e.write(\"Hi\")\n",
    "e.write(\"\\nfood is cold\"*2)\n",
    "e.write(\"\\nsunny day\"*4)\n",
    "e.close()"
   ]
  },
  {
   "cell_type": "code",
   "execution_count": 3,
   "metadata": {},
   "outputs": [
    {
     "name": "stdout",
     "output_type": "stream",
     "text": [
      "True\n",
      "False\n",
      "False\n",
      "True\n",
      "True\n",
      "True\n"
     ]
    }
   ],
   "source": [
    "a = open(\"rain.txt\",\"r\")\n",
    "b = open(\"cloud.txt\",\"r\")\n",
    "day = a.readlines()\n",
    "night =  b.readlines()\n",
    "\n",
    "for i in range(6):\n",
    "    if day[i] == night[i]:\n",
    "        print(True)\n",
    "    else:\n",
    "        print(False)\n",
    "\n",
    "a.close()\n",
    "b.close()"
   ]
  },
  {
   "cell_type": "code",
   "execution_count": 4,
   "metadata": {},
   "outputs": [
    {
     "name": "stdout",
     "output_type": "stream",
     "text": [
      "True\n",
      "False\n",
      "False\n",
      "True\n",
      "True\n",
      "True\n"
     ]
    }
   ],
   "source": [
    "a, b = open(\"rain.txt\",\"r\"), open(\"cloud.txt\",\"r\")\n",
    "day,night = a.readlines(), b.readlines()\n",
    "\n",
    "for i in [True if day[i] == night[i] else False for i in range(6)]:\n",
    "    print(i)\n",
    "a.close() ; b.close()"
   ]
  },
  {
   "cell_type": "markdown",
   "metadata": {},
   "source": [
    "## TASK 2: THREE INPUTS FOR THREE TXT FILES\n",
    "\n",
    "### WORK WITH\n",
    "    \n",
    "    files = [\"morning\", \"evening\", \"night\"]\n",
    "    ### Add Code Here\n",
    "    ### Add Code VV\n",
    "    d = open(\".txt\", \"w\")\n",
    "    d.write(\"game\")\n",
    "    d.close()\n",
    "    ### Add Code Here\n",
    "    ### Add Code Here\n",
    "    ### Add Code Here\n",
    "    ### Add Code Here\n",
    "\n",
    "### DESIRED OUTPUT\n",
    "    \n",
    "    add text: blue\n",
    "    add text: green\n",
    "    add text: red\n",
    "    For each txt file has the following text:\n",
    "    - morning.txt:\n",
    "    - game\n",
    "    - win\n",
    "    - evening.txt:\n",
    "    - game\n",
    "    - lose\n",
    "    - night.txt:\n",
    "    - game\n",
    "    - draw\n",
    "\n",
    "### HINTS?\n",
    "\n",
    "    1. Use a for loop with a len in range.\n",
    "    2. Use the \"a\" mode for appending new lines.\n",
    "    3. Make sure you always have the close() method at the end if using open."
   ]
  },
  {
   "cell_type": "code",
   "execution_count": 6,
   "metadata": {},
   "outputs": [
    {
     "name": "stdout",
     "output_type": "stream",
     "text": [
      "add text:win\n",
      "add text:lose\n",
      "add text:draw\n"
     ]
    }
   ],
   "source": [
    "files = [\"morning\", \"evening\", \"night\"]\n",
    "for i in range(len(files)):\n",
    "    d = open(files[i]+\".txt\", \"w\")\n",
    "    d.write(\"game\")\n",
    "    d.close()\n",
    "    \n",
    "    text = input(\"add text:\")\n",
    "    \n",
    "    d= open(files[i] + \".txt\", \"a\")\n",
    "    \n",
    "    d.write(\"\\n\" + text)\n",
    "    d.close()\n"
   ]
  },
  {
   "cell_type": "markdown",
   "metadata": {},
   "source": [
    "## TASK 3: FILTER OUT WORDS BASED ON LENGTH\n",
    "\n",
    "### WORK WITH\n",
    "\n",
    "    w = open(\"count.txt\", \"w\")\n",
    "    w.write(\"\"\"computer\\n\n",
    "    python\\n\n",
    "    udemy\\n\n",
    "    intelligence\\n\n",
    "    universal\\n\n",
    "    jupyter\n",
    "    java\\n\n",
    "    javascript\\n\"\"\")\n",
    "    w.close()\n",
    "\n",
    "### DESIRED OUTPUT\n",
    "    \n",
    "    ['python', 'udemy', 'jupyter']\n",
    "\n",
    "### HINTS?\n",
    "\n",
    "    1. Use with open for the \"count.txt\" file as comp.\n",
    "    2. Read the lines of the txt file, and use the len, join, replace and split methods.\n",
    "    3. for loop in list comprehension where you check the length of each word >= 5 and <= 7.\n",
    "    4. Use an if statement."
   ]
  },
  {
   "cell_type": "code",
   "execution_count": 8,
   "metadata": {},
   "outputs": [],
   "source": [
    "w = open(\"count.txt\", \"w\")\n",
    "w.write(\"\"\"computer\\n\n",
    "python\\n\n",
    "udemy\\n\n",
    "intelligence\\n\n",
    "universal\\n\n",
    "jupyter\\n\n",
    "java\\n\n",
    "javascript\\n\"\"\")\n",
    "w.close()"
   ]
  },
  {
   "cell_type": "code",
   "execution_count": 13,
   "metadata": {},
   "outputs": [],
   "source": [
    "with open(\"count.txt\",\"r+\") as comp:\n",
    "    g = \"\".join(comp.readlines())\n",
    "g2 = g.replace(\"\\n\\n\",\" \").split()"
   ]
  },
  {
   "cell_type": "code",
   "execution_count": 14,
   "metadata": {},
   "outputs": [
    {
     "data": {
      "text/plain": [
       "['python', 'udemy', 'jupyter']"
      ]
     },
     "execution_count": 14,
     "metadata": {},
     "output_type": "execute_result"
    }
   ],
   "source": [
    "[i for i in g2 if len(i) >= 5 and len(i) <= 7]"
   ]
  }
 ],
 "metadata": {
  "kernelspec": {
   "display_name": "Python 3",
   "language": "python",
   "name": "python3"
  },
  "language_info": {
   "codemirror_mode": {
    "name": "ipython",
    "version": 3
   },
   "file_extension": ".py",
   "mimetype": "text/x-python",
   "name": "python",
   "nbconvert_exporter": "python",
   "pygments_lexer": "ipython3",
   "version": "3.7.1"
  }
 },
 "nbformat": 4,
 "nbformat_minor": 2
}
