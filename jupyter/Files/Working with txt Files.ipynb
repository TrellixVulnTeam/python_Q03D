{
 "cells": [
  {
   "cell_type": "markdown",
   "metadata": {},
   "source": [
    "# WORKING WITH TXT FILES\n",
    "\n",
    "    Text files are a built-in Python feature. No import modules required\n",
    "    Text files have the .txt format\n",
    "    Use either open or with open to either write or read a txt file\n",
    "    Use one of four mode for txt files:\n",
    "        \"w\" for writing\n",
    "        \"r\" for reading\n",
    "        \"r+\" for both reading and writing\n",
    "        \"a\" for appending new written lines"
   ]
  },
  {
   "cell_type": "code",
   "execution_count": 1,
   "metadata": {},
   "outputs": [],
   "source": [
    "desk = \"\"\n",
    "f = open(desk + \"first.txt\", \"w\")\n",
    "f.close()"
   ]
  },
  {
   "cell_type": "code",
   "execution_count": 26,
   "metadata": {},
   "outputs": [
    {
     "name": "stdout",
     "output_type": "stream",
     "text": [
      "<_io.TextIOWrapper name='first.txt' mode='w' encoding='cp1252'>\n"
     ]
    }
   ],
   "source": [
    "f = open(desk + \"first.txt\",\"w\")\n",
    "print(f)\n",
    "f.close()"
   ]
  },
  {
   "cell_type": "code",
   "execution_count": 27,
   "metadata": {},
   "outputs": [],
   "source": [
    "f = open(desk + \"first.txt\",\"w\")\n",
    "f.write(\"This is my first file!\")\n",
    "f.write(\"\\nHello world\")\n",
    "f.close()"
   ]
  },
  {
   "cell_type": "code",
   "execution_count": 28,
   "metadata": {},
   "outputs": [],
   "source": [
    "f1 = open(desk + \"first.txt\",\"a\")\n",
    "f1.write(\"\\n Good night!\")\n",
    "f1.close()"
   ]
  },
  {
   "cell_type": "code",
   "execution_count": 29,
   "metadata": {},
   "outputs": [],
   "source": [
    "with open(desk + \"first.txt\",\"a\") as g:\n",
    "    g.write(\"\\n Cool!\")"
   ]
  },
  {
   "cell_type": "code",
   "execution_count": 30,
   "metadata": {},
   "outputs": [
    {
     "name": "stdout",
     "output_type": "stream",
     "text": [
      "This is my first file!\n",
      "Hello world\n",
      " Good night!\n",
      " Cool!\n"
     ]
    }
   ],
   "source": [
    "f2 = open(desk + \"first.txt\",\"r\")\n",
    "print(f2.read())\n",
    "f2.close()"
   ]
  },
  {
   "cell_type": "code",
   "execution_count": 31,
   "metadata": {},
   "outputs": [],
   "source": [
    "gear = [\"Blade Wolf\",\"Raiden\"]\n",
    "\n",
    "path = \"file_{}/second.txt\"\n",
    "\n",
    "for i in range(len(gear)):\n",
    "    with open(path.format(i), \"w\") as f3:\n",
    "        f3.write(gear[0])\n",
    "        f3.write(\"\\n\"+gear[1])\n",
    "        f3.write(\"\\n{} is cooler than {}\".format(gear[0],gear[1]))"
   ]
  },
  {
   "cell_type": "code",
   "execution_count": 33,
   "metadata": {},
   "outputs": [],
   "source": [
    "gear = [\"Blade Wolf\",\"Raiden\",\"Sam\"]\n",
    "\n",
    "path = \"file_{}/second.txt\"\n",
    "\n",
    "for i in range(len(gear)):\n",
    "    with open(path.format(i), \"w\") as f3:\n",
    "        f3.write(gear[i])        \n",
    "        f3.write(\"\\n{} is cooler than {}\".format(gear[0],gear[1]))"
   ]
  },
  {
   "cell_type": "code",
   "execution_count": 37,
   "metadata": {},
   "outputs": [],
   "source": [
    "simpsons = [[\"Barb in detention\", \"Lisa at MIT\"], [\"Dougnuts..mmmm\", \"Homer: 'Nom,nom,nom'\"]]\n",
    "\n",
    "transformers = [[\"HotRod opens matrix\", \"Optimus returns!\"], [\"Unicron explodes\", \"Megatron jumps\"]]\n",
    "\n",
    "\n",
    "\n",
    "def File(text):\n",
    "    \n",
    "    path = \"\"\n",
    "    \n",
    "    \n",
    "    for i in range(len(text)):\n",
    "        with open(path + \"cartoon_{}.txt\".format(i),\"w\") as f:\n",
    "            f.write(text[i][0])            \n",
    "            f.write(\"\\n\"+text[i][1])\n",
    "            \n",
    "File(simpsons)\n",
    "File(transformers)"
   ]
  },
  {
   "cell_type": "code",
   "execution_count": 38,
   "metadata": {},
   "outputs": [],
   "source": [
    "dc = open(\"skynet.txt\",\"w\")\n",
    "dc.write(\"\"\"Terminator is \\n\n",
    "hunting John Connor \\n\n",
    "and Sarah is protecting him \\n\n",
    "I'll be back\"\"\")\n",
    "dc.close()"
   ]
  },
  {
   "cell_type": "code",
   "execution_count": 39,
   "metadata": {},
   "outputs": [],
   "source": [
    "d = open(\"skynet.txt\", \"r+\")\n",
    "d.write(\"\\n hasta la vista baby!\")\n",
    "end = d.readlines()\n",
    "d.close()"
   ]
  },
  {
   "cell_type": "code",
   "execution_count": 40,
   "metadata": {},
   "outputs": [],
   "source": [
    "film = \"\".join(end)"
   ]
  },
  {
   "cell_type": "code",
   "execution_count": 41,
   "metadata": {},
   "outputs": [
    {
     "data": {
      "text/plain": [
       "\"Terminator is \\n\\nhunting John Connor \\n\\nand Sarah is protecting him \\n\\nI'll be back\""
      ]
     },
     "execution_count": 41,
     "metadata": {},
     "output_type": "execute_result"
    }
   ],
   "source": [
    "film"
   ]
  },
  {
   "cell_type": "code",
   "execution_count": 42,
   "metadata": {},
   "outputs": [
    {
     "data": {
      "text/plain": [
       "True"
      ]
     },
     "execution_count": 42,
     "metadata": {},
     "output_type": "execute_result"
    }
   ],
   "source": [
    "\"Terminator\" in film.replace(\"\\n\",\" \").split()"
   ]
  },
  {
   "cell_type": "code",
   "execution_count": null,
   "metadata": {},
   "outputs": [],
   "source": []
  }
 ],
 "metadata": {
  "kernelspec": {
   "display_name": "Python 3",
   "language": "python",
   "name": "python3"
  },
  "language_info": {
   "codemirror_mode": {
    "name": "ipython",
    "version": 3
   },
   "file_extension": ".py",
   "mimetype": "text/x-python",
   "name": "python",
   "nbconvert_exporter": "python",
   "pygments_lexer": "ipython3",
   "version": "3.7.1"
  }
 },
 "nbformat": 4,
 "nbformat_minor": 2
}
