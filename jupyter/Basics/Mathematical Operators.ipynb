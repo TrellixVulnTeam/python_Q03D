{
 "cells": [
  {
   "cell_type": "markdown",
   "metadata": {},
   "source": [
    "# MATHEMATICAL OPERATORS\n",
    "\n",
    "    Addition               +\n",
    "    Substraction           -\n",
    "    Multiplication         *\n",
    "    Power                  **\n",
    "    Division               /\n",
    "    Floor Division         //\n",
    "    Modulus                %\n",
    "    Integer                int(number)\n",
    "    Float                  float(number)"
   ]
  },
  {
   "cell_type": "code",
   "execution_count": 3,
   "metadata": {
    "scrolled": true
   },
   "outputs": [
    {
     "name": "stdout",
     "output_type": "stream",
     "text": [
      "8.0\n",
      "8\n",
      "0\n",
      "0\n"
     ]
    }
   ],
   "source": [
    "var = 5\n",
    "print(40/var)\n",
    "print(40//var)\n",
    "print(40%var)\n",
    "print(40-(8*var))"
   ]
  },
  {
   "cell_type": "code",
   "execution_count": 6,
   "metadata": {},
   "outputs": [
    {
     "data": {
      "text/plain": [
       "int"
      ]
     },
     "execution_count": 6,
     "metadata": {},
     "output_type": "execute_result"
    }
   ],
   "source": [
    "x, y, z = 25, 80, 9.12345\n",
    "type(x)\n",
    "type(y)\n",
    "type(z)\n",
    "x_float = float(x)\n",
    "(x_float)\n",
    "z_int = int(z)\n",
    "type(z_int)\n"
   ]
  },
  {
   "cell_type": "code",
   "execution_count": null,
   "metadata": {},
   "outputs": [],
   "source": []
  }
 ],
 "metadata": {
  "kernelspec": {
   "display_name": "Python 3",
   "language": "python",
   "name": "python3"
  },
  "language_info": {
   "codemirror_mode": {
    "name": "ipython",
    "version": 3
   },
   "file_extension": ".py",
   "mimetype": "text/x-python",
   "name": "python",
   "nbconvert_exporter": "python",
   "pygments_lexer": "ipython3",
   "version": "3.7.1"
  }
 },
 "nbformat": 4,
 "nbformat_minor": 2
}
