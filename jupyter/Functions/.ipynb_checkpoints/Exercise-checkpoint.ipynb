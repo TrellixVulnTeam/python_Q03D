{
 "cells": [
  {
   "cell_type": "markdown",
   "metadata": {},
   "source": [
    "# FUNCTIONS EXERCISE\n",
    "\n",
    "## TASK 1:IMPORT RANDOM INSIDE A FUNCTION WITH TWO PARAMETERS\n",
    "\n",
    "### WORK WITH\n",
    "\n",
    "    # Add code here\n",
    "    # Add code here\n",
    "    rd.seed(10)\n",
    "    numbers = range(1, rd.randint(1, rad))\n",
    "    calc = []\n",
    "    for i in range(len(numbers)):\n",
    "    # Add Code VV\n",
    "    numbers[i] # Add code here:\n",
    "    s = numbers[i]\n",
    "    # Add code here\n",
    "    #Add Code here\n",
    "    s = 0\n",
    "    # Add code here\n",
    "    # Add code VV\n",
    "    print((calc))\n",
    "    #Add Code VV\n",
    "    calc\n",
    "\n",
    "### FINAL INPUT\n",
    "    \n",
    "    1ST\n",
    "    compute(20, 1)\n",
    "    2ND\n",
    "    compute(20, 0)\n",
    "\n",
    "### DESIRED OUTPUT\n",
    "\n",
    "    1ST\n",
    "    56\n",
    "    [0, 0, 0, 0, 0, 0, 0, 0, 0, 0, 11, 0, 13, 0, 15, 0, 17, 0]\n",
    "    2ND\n",
    "    60\n",
    "    [0, 0, 0, 0, 0, 0, 0, 0, 0, 0, 0, 12, 0, 14, 0, 16, 0, 18]\n",
    "\n",
    "### HINTS?\n",
    "\n",
    "    1. Name the function compute and import random as rd.\n",
    "    2. The function, compute has two non-default parameters, rad and num.\n",
    "    3. In the for loop, use both if and else control flow\n",
    "    4. Use calc.append in two parts of this function, one for the if and else.\n",
    "    5. For the if statement, use modulus, % 2 == num, and > 10.\n",
    "    6. Don't forget to use the return at the end of your function!\n",
    "    7. For the print, use the sum for calc."
   ]
  },
  {
   "cell_type": "code",
   "execution_count": 1,
   "metadata": {},
   "outputs": [],
   "source": [
    "def compute(rad,num):\n",
    "    import random as rd\n",
    "    rd.seed(10)\n",
    "    numbers = range(1, rd.randint(1, rad))\n",
    "    calc = []\n",
    "    for i in range(len(numbers)):\n",
    "        if numbers[i] % 2 == num and numbers[i] > 10:\n",
    "            s = numbers[i]\n",
    "            calc.append(s)\n",
    "        else:\n",
    "            s = 0\n",
    "            calc.append(s)\n",
    "    print(sum(calc))\n",
    "    return calc"
   ]
  },
  {
   "cell_type": "code",
   "execution_count": 2,
   "metadata": {
    "scrolled": true
   },
   "outputs": [
    {
     "name": "stdout",
     "output_type": "stream",
     "text": [
      "56\n"
     ]
    },
    {
     "data": {
      "text/plain": [
       "[0, 0, 0, 0, 0, 0, 0, 0, 0, 0, 11, 0, 13, 0, 15, 0, 17, 0]"
      ]
     },
     "execution_count": 2,
     "metadata": {},
     "output_type": "execute_result"
    }
   ],
   "source": [
    "compute(20,1)"
   ]
  },
  {
   "cell_type": "code",
   "execution_count": null,
   "metadata": {},
   "outputs": [],
   "source": []
  },
  {
   "cell_type": "markdown",
   "metadata": {},
   "source": [
    "## TASK 2: CALL A NESTED FUNCTION AND MODIFY ITS DEFAULT PARAMETER\n",
    "\n",
    "### WORK WITH\n",
    "\n",
    "    def lang(program = \"JavaScript\"):\n",
    "    print(\"My favourite language is {}.\".format(program))\n",
    "\n",
    "### FINAL INPUT\n",
    "\n",
    "    udemy(\"Python\")\n",
    "\n",
    "### DESIRED OUTPUT\n",
    "\n",
    "    My favourite language is Python\n",
    "    The coolest part about Python is functions\n",
    "\n",
    "### HINTS?\n",
    "    \n",
    "    1. Create a function called udemy() that uses a single print.\n",
    "    2. For lang(), default parameter is \"JavaScript\" which uses the format function.\n",
    "    3. For udemy(), the parameter can be changed and also uses format\n",
    "    4. Call lang() inside of udemy()."
   ]
  },
  {
   "cell_type": "code",
   "execution_count": 5,
   "metadata": {},
   "outputs": [
    {
     "name": "stdout",
     "output_type": "stream",
     "text": [
      "The coolest part about Python is functions\n"
     ]
    }
   ],
   "source": [
    "def lang(program = \"JavaScript\"):\n",
    "    print(\"My favourite language is {}.\".format(program))\n",
    "    \n",
    "def udemy(program):\n",
    "    print(\"The coolest part about {} is functions\".format(program))\n",
    "    \n",
    "udemy(\"Python\")"
   ]
  },
  {
   "cell_type": "markdown",
   "metadata": {},
   "source": [
    "## TASK 3: FUNCTION REPEATS ANOTHER FUNCTION WITH INPUT\n",
    "\n",
    "### WORK WITH\n",
    "    \n",
    "    def greet(name= \"Michael\"):\n",
    "    print(\"Hello there, \" + name,\"!\")\n",
    "\n",
    "### DESIRED OUTPUT\n",
    "    \n",
    "    Student name: Michael\n",
    "    Hello there, Michael !\n",
    "    Student name: Sarah\n",
    "    Hello there, Sarah !\n",
    "    Hello there, Sarah !\n",
    "    Student name: Callum\n",
    "    Hello there, Callum !\n",
    "\n",
    "### HINTS?\n",
    "    \n",
    "    1. For the function, repeat(), use a parameter, n, to use in a for loop.\n",
    "    2. In repeat(), use the input method and assign it to a variable called name.\n",
    "    3. Place the greet function inside the repeat function."
   ]
  },
  {
   "cell_type": "code",
   "execution_count": 6,
   "metadata": {},
   "outputs": [],
   "source": [
    "def greet(name= \"Michael\"):\n",
    "    print(\"Hello there, \" + name,\"!\")"
   ]
  },
  {
   "cell_type": "code",
   "execution_count": 7,
   "metadata": {},
   "outputs": [],
   "source": [
    "def repeat(n):\n",
    "    for i in range(n):\n",
    "        name = input(\"Student name:\")\n",
    "        greet(name)"
   ]
  },
  {
   "cell_type": "code",
   "execution_count": 8,
   "metadata": {},
   "outputs": [
    {
     "name": "stdout",
     "output_type": "stream",
     "text": [
      "Student name:walter\n",
      "Hello there, walter !\n",
      "Student name:ivan\n",
      "Hello there, ivan !\n",
      "Student name:ronald\n",
      "Hello there, ronald !\n"
     ]
    }
   ],
   "source": [
    "repeat(3)"
   ]
  },
  {
   "cell_type": "markdown",
   "metadata": {},
   "source": [
    "## TASK 4: FUNCTION WITH CONTROL FLOW AND FORMATTING\n",
    "\n",
    "### WORK WITH\n",
    "\n",
    "    def survivor(name= \"Michael\"):\n",
    "    zomb1 = input(\"How many zombies are there? \")\n",
    "    zombie = (zomb1)\n",
    "    if add code here\n",
    "    print(\"{} is fighting {} zombies!\" # add code here\n",
    "    elif add code here\n",
    "    print(\"{} is shooting {} zombies!\" # add code here\n",
    "    elif add code here\n",
    "    print(\"{} is running from {} zombies!\" #add code here\n",
    "    else:\n",
    "    print(\"{} is eaten ALIVE by {} zombies!!!!!\" #add code here\n",
    "\n",
    "### DESIRED OUTPUT\n",
    "\n",
    "    How many zombies are there? 110\n",
    "    Michael is running from 110 zombies!\n",
    "\n",
    "### HINTS?\n",
    "\n",
    "    1. Use the eval and an operator.\n",
    "    2. For the if statement, zombie between 1 and under 20\n",
    "    3. For the 1st elif statement, zombie between 20 and under 100\n",
    "    4. For the 2nd elif statement, zombie between 100 and under 200"
   ]
  },
  {
   "cell_type": "code",
   "execution_count": 11,
   "metadata": {},
   "outputs": [],
   "source": [
    "def survivor(name= \"Michael\"):\n",
    "    zomb1 = input(\"How many zombies are there? \")\n",
    "    zombie = eval(zomb1)\n",
    "    if zombie >= 1 and zombie < 20:\n",
    "        print(\"{} is fighting {} zombies!\".format(name,zombie))\n",
    "    elif zombie >= 20 and zombie < 100:\n",
    "        print(\"{} is shooting {} zombies!\".format(name,zombie))\n",
    "    elif zombie >= 100 and zombie < 200:\n",
    "        print(\"{} is running from {} zombies!\".format(name,zombie))\n",
    "    else:\n",
    "        print(\"{} is eaten ALIVE by {} zombies!!!!!\".format(name,zombie))"
   ]
  },
  {
   "cell_type": "code",
   "execution_count": 12,
   "metadata": {},
   "outputs": [
    {
     "name": "stdout",
     "output_type": "stream",
     "text": [
      "How many zombies are there? 200\n",
      "Michael is eaten ALIVE by 200 zombies!!!!!\n"
     ]
    }
   ],
   "source": [
    "survivor()"
   ]
  },
  {
   "cell_type": "code",
   "execution_count": null,
   "metadata": {},
   "outputs": [],
   "source": []
  }
 ],
 "metadata": {
  "kernelspec": {
   "display_name": "Python 3",
   "language": "python",
   "name": "python3"
  },
  "language_info": {
   "codemirror_mode": {
    "name": "ipython",
    "version": 3
   },
   "file_extension": ".py",
   "mimetype": "text/x-python",
   "name": "python",
   "nbconvert_exporter": "python",
   "pygments_lexer": "ipython3",
   "version": "3.7.1"
  }
 },
 "nbformat": 4,
 "nbformat_minor": 2
}
