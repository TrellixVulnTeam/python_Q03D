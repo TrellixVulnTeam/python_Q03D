{
 "cells": [
  {
   "cell_type": "code",
   "execution_count": 14,
   "metadata": {},
   "outputs": [
    {
     "name": "stdout",
     "output_type": "stream",
     "text": [
      "Click arrow icon to run code in cell\n"
     ]
    }
   ],
   "source": [
    "print(\"Click arrow icon to run code in cell\")"
   ]
  },
  {
   "cell_type": "code",
   "execution_count": 15,
   "metadata": {},
   "outputs": [
    {
     "name": "stdout",
     "output_type": "stream",
     "text": [
      "Hold shift + press enter to run code in cell\n"
     ]
    }
   ],
   "source": [
    "print(\"Hold shift + press enter to run code in cell\")"
   ]
  },
  {
   "cell_type": "code",
   "execution_count": 16,
   "metadata": {
    "scrolled": false
   },
   "outputs": [
    {
     "name": "stdout",
     "output_type": "stream",
     "text": [
      "Hold ctrl + left click mouse for multi cursor!\n",
      "Hold ctrl + left click mouse for multi cursor!\n",
      "Hold ctrl + left click mouse for multi cursor!\n",
      "Hold ctrl + left click mouse for multi cursor!\n",
      "Hold ctrl + left click mouse for multi cursor!\n"
     ]
    }
   ],
   "source": [
    "print(\"Hold ctrl + left click mouse for multi cursor!\")\n",
    "print(\"Hold ctrl + left click mouse for multi cursor!\")\n",
    "print(\"Hold ctrl + left click mouse for multi cursor!\")\n",
    "print(\"Hold ctrl + left click mouse for multi cursor!\")\n",
    "print(\"Hold ctrl + left click mouse for multi cursor!\")\n",
    "\n"
   ]
  },
  {
   "cell_type": "code",
   "execution_count": 17,
   "metadata": {},
   "outputs": [
    {
     "name": "stdout",
     "output_type": "stream",
     "text": [
      "Press L to see the magic\n"
     ]
    }
   ],
   "source": [
    "print(\"Press L to see the magic\")"
   ]
  },
  {
   "cell_type": "code",
   "execution_count": 18,
   "metadata": {},
   "outputs": [
    {
     "name": "stdout",
     "output_type": "stream",
     "text": [
      "Select two rows with shift and press ctrl + m to merge\n"
     ]
    }
   ],
   "source": [
    "print(\"Select two rows with shift and press ctrl + m to merge\")"
   ]
  },
  {
   "cell_type": "code",
   "execution_count": 19,
   "metadata": {},
   "outputs": [
    {
     "name": "stdout",
     "output_type": "stream",
     "text": [
      "Split into rows with ctrl + shift + - \n"
     ]
    }
   ],
   "source": [
    "print(\"Split into rows with ctrl + shift + - \")\n"
   ]
  },
  {
   "cell_type": "code",
   "execution_count": 20,
   "metadata": {},
   "outputs": [
    {
     "name": "stdout",
     "output_type": "stream",
     "text": [
      "To copy use c and to paste use v without ctrl\n"
     ]
    }
   ],
   "source": [
    "print(\"To copy use c and to paste use v without ctrl\")"
   ]
  },
  {
   "cell_type": "code",
   "execution_count": 21,
   "metadata": {},
   "outputs": [
    {
     "name": "stdout",
     "output_type": "stream",
     "text": [
      "Cut with letter x\n"
     ]
    }
   ],
   "source": [
    "print(\"Cut with letter x\")"
   ]
  },
  {
   "cell_type": "code",
   "execution_count": 22,
   "metadata": {},
   "outputs": [
    {
     "name": "stdout",
     "output_type": "stream",
     "text": [
      "Ctrl + a to select TEXT\n"
     ]
    }
   ],
   "source": [
    "print(\"Ctrl + a to select TEXT\")"
   ]
  },
  {
   "cell_type": "code",
   "execution_count": 23,
   "metadata": {},
   "outputs": [
    {
     "name": "stdout",
     "output_type": "stream",
     "text": [
      "Ctrl Z or Ctrl Y\n"
     ]
    }
   ],
   "source": [
    "print(\"Ctrl Z or Ctrl Y\")"
   ]
  },
  {
   "cell_type": "code",
   "execution_count": 24,
   "metadata": {
    "scrolled": false
   },
   "outputs": [
    {
     "name": "stdout",
     "output_type": "stream",
     "text": [
      "Hold ctrl + left click mouse for multi cursor!\n",
      "Hold ctrl + left click mouse for multi cursor!\n",
      "Hold ctrl + left click mouse for multi cursor!\n",
      "Hold ctrl + left click mouse for multi cursor!\n",
      "Hold ctrl + left click mouse for multi cursor!\n"
     ]
    }
   ],
   "source": [
    "print(\"Hold ctrl + left click mouse for multi cursor!\")\n",
    "print(\"Hold ctrl + left click mouse for multi cursor!\")\n",
    "print(\"Hold ctrl + left click mouse for multi cursor!\")\n",
    "print(\"Hold ctrl + left click mouse for multi cursor!\")\n",
    "print(\"Hold ctrl + left click mouse for multi cursor!\")\n",
    "\n"
   ]
  },
  {
   "cell_type": "code",
   "execution_count": 25,
   "metadata": {},
   "outputs": [],
   "source": [
    "#This is a comment"
   ]
  },
  {
   "cell_type": "code",
   "execution_count": 26,
   "metadata": {},
   "outputs": [
    {
     "name": "stdout",
     "output_type": "stream",
     "text": [
      "Ctrl + / to comment selected\n"
     ]
    }
   ],
   "source": [
    "# print(\"Hold ctrl + left click mouse for multi cursor!\")\n",
    "# print(\"Hold ctrl + left click mouse for multi cursor!\")\n",
    "# print(\"Hold ctrl + left click mouse for multi cursor!\")\n",
    "# print(\"Hold ctrl + left click mouse for multi cursor!\")\n",
    "# print(\"Hold ctrl + left click mouse for multi cursor!\")\n",
    "\n",
    "\n",
    "print(\"Ctrl + / to comment selected\")\n",
    "\n"
   ]
  },
  {
   "cell_type": "code",
   "execution_count": null,
   "metadata": {},
   "outputs": [],
   "source": []
  },
  {
   "cell_type": "code",
   "execution_count": null,
   "metadata": {},
   "outputs": [],
   "source": []
  },
  {
   "cell_type": "code",
   "execution_count": null,
   "metadata": {},
   "outputs": [],
   "source": []
  }
 ],
 "metadata": {
  "kernelspec": {
   "display_name": "Python 3",
   "language": "python",
   "name": "python3"
  },
  "language_info": {
   "codemirror_mode": {
    "name": "ipython",
    "version": 3
   },
   "file_extension": ".py",
   "mimetype": "text/x-python",
   "name": "python",
   "nbconvert_exporter": "python",
   "pygments_lexer": "ipython3",
   "version": "3.7.1"
  }
 },
 "nbformat": 4,
 "nbformat_minor": 2
}
