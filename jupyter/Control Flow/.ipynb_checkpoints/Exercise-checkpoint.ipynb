{
 "cells": [
  {
   "cell_type": "markdown",
   "metadata": {},
   "source": [
    "# CONTROL FLOW EXERCISE\n",
    "\n",
    "## TASK 1: CONTROL FLOW WITH DICTIONARY\n",
    "\n",
    "### WORK WITH\n",
    "\n",
    "`d1 = {\"k1\":[1,2,3,(100,300,500)], \"k2\":[4,5,6,[\"phone\",\"computer\",\"robot\"]]}`\n",
    "\n",
    "`var = eval(input(\"Enter a number: \"))\n",
    "\n",
    "    if #ADD CODE HERE:\n",
    "        print(\"Found you!\")\n",
    "        num = input(\"Enter a number: \")\n",
    "        #ADD CODE VV\n",
    "        (num) in d1[\"k2\"][:3]:\n",
    "            print(\"Found another one!\")\n",
    "            \n",
    "            item = input(\"Enter an item: \")\n",
    "            \n",
    "            if item in d1[\"k2\"][3]:\n",
    "                print(\"Got a \", item)\n",
    "            else:\n",
    "                print(\"Can't find a\",item)\n",
    "        # ADD CODE HERE\n",
    "            print(\"Can't find anything\")\n",
    "            \n",
    "    elif #ADD code here:\n",
    "        print(\"Can't hide!\")\n",
    "    else:\n",
    "        print(\"Where are you?\")`\n",
    "        \n",
    "### DESIRED OUTPUT\n",
    "\n",
    "Enter a number: 3\n",
    "found you!\n",
    "Enter a number: 4\n",
    "Found another one!\n",
    "Enter an item: car\n",
    "Can't find a car\n",
    "\n",
    "### DESIRED OUTPUT 2\n",
    "\n",
    "Enter a number: 4\n",
    "Where are you?\n",
    "\n",
    "### HINTS?\n",
    "\n",
    "1. For the output control flow, check if var is in \"k1\"\n",
    "2. Else if var is in \"k1\"[3]\n",
    "3. Create an inner or nested control flow\n",
    "4. You should have multiple outputs depending on your two inputs for both var and num\n",
    "5. Add the in operator in 2 lines of code for the outer controlf flow\n",
    "6. Use the eval for one of the control flow statements\n",
    "    \n"
   ]
  },
  {
   "cell_type": "code",
   "execution_count": 1,
   "metadata": {},
   "outputs": [],
   "source": [
    "d1 = {\"k1\":[1,2,3,(100,300,500)], \"k2\":[4,5,6,[\"phone\",\"computer\",\"robot\"]]}"
   ]
  },
  {
   "cell_type": "code",
   "execution_count": 8,
   "metadata": {},
   "outputs": [
    {
     "name": "stdout",
     "output_type": "stream",
     "text": [
      "Enter a number: 3\n",
      "Found you!\n",
      "Enter a number: 34\n",
      "Can't find anything\n"
     ]
    }
   ],
   "source": [
    "var = eval(input(\"Enter a number: \"))\n",
    "\n",
    "if var in d1[\"k1\"]:\n",
    "    print(\"Found you!\")\n",
    "    num = input(\"Enter a number: \")\n",
    "    #ADD CODE VV\n",
    "    if eval(num) in d1[\"k2\"][:3]:\n",
    "        print(\"Found another one!\")\n",
    "\n",
    "        item = input(\"Enter an item: \")\n",
    "\n",
    "        if item in d1[\"k2\"][3]:\n",
    "            print(\"Got a \", item)\n",
    "        else:\n",
    "            print(\"Can't find a\",item)\n",
    "    else:\n",
    "        print(\"Can't find anything\")\n",
    "\n",
    "elif var in d1[\"k1\"][3]:\n",
    "    print(\"Can't hide!\")\n",
    "else:\n",
    "    print(\"Where are you?\")"
   ]
  },
  {
   "cell_type": "markdown",
   "metadata": {},
   "source": [
    "## TASK 2: CONTROL FLOW WITH ONLY ONE IF STATEMENT\n",
    "\n",
    "### WORK WITH\n",
    "\n",
    "    choose_dish = input(\"Enter a number 0 to 2: \")\n",
    "    pick_sauce = input(\"Enter a number 0 to 2:\")\n",
    "    \n",
    "    cooked_paste = [\"hot\",\"cold\",\"over cooked\"]\n",
    "    sauce = [\"spicy\",\"sweet\",\"savoury\"]\n",
    "    print(\"My meal is\", cooked_pasta, \"and very\", sauce, \"!\")\n",
    "    \n",
    "### DESIRED OUTPUT\n",
    "\n",
    "    Enter a number 0 to 2: 0\n",
    "    Enter a number 0 to 2: 0\n",
    "    My meal in hot and very spicy\n",
    "    \n",
    "### HINTS?\n",
    "\n",
    "    1. Use only ONE if statement and an else statement\n",
    "    2. Use eval built-in function or method\n",
    "    3. Use indexing\n",
    "    4. Use the None type object as the only output for the if statement\n",
    "    5. Use the following operators\n",
    "        and\n",
    "        or\n",
    "        <\n",
    "        >"
   ]
  },
  {
   "cell_type": "code",
   "execution_count": 1,
   "metadata": {},
   "outputs": [
    {
     "data": {
      "text/plain": [
       "NoneType"
      ]
     },
     "execution_count": 1,
     "metadata": {},
     "output_type": "execute_result"
    }
   ],
   "source": [
    "None\n",
    "type(None)"
   ]
  },
  {
   "cell_type": "code",
   "execution_count": 16,
   "metadata": {},
   "outputs": [
    {
     "name": "stdout",
     "output_type": "stream",
     "text": [
      "Enter a number 0 to 2: 2\n",
      "Enter a number 0 to 2:2\n",
      "My meal is over cooked and very savoury !\n"
     ]
    }
   ],
   "source": [
    "choose_dish = eval(input(\"Enter a number 0 to 2: \"))\n",
    "pick_sauce = eval(input(\"Enter a number 0 to 2:\"))\n",
    "\n",
    "if choose_dish > 2 and pick_sauce > 2 or choose_dish < 3 and pick_sauce > 2 or choose_dish > 2 and pick_sauce < 3:\n",
    "    None\n",
    "else: \n",
    "    cooked_pasta = [\"hot\",\"cold\",\"over cooked\"][choose_dish]\n",
    "    sauce = [\"spicy\",\"sweet\",\"savoury\"][pick_sauce]\n",
    "    print(\"My meal is\", cooked_pasta, \"and very\", sauce, \"!\")"
   ]
  }
 ],
 "metadata": {
  "kernelspec": {
   "display_name": "Python 3",
   "language": "python",
   "name": "python3"
  },
  "language_info": {
   "codemirror_mode": {
    "name": "ipython",
    "version": 3
   },
   "file_extension": ".py",
   "mimetype": "text/x-python",
   "name": "python",
   "nbconvert_exporter": "python",
   "pygments_lexer": "ipython3",
   "version": "3.7.1"
  }
 },
 "nbformat": 4,
 "nbformat_minor": 2
}
