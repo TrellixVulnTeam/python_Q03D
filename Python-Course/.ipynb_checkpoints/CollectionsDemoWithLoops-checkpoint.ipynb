{
 "cells": [
  {
   "cell_type": "code",
   "execution_count": 5,
   "metadata": {},
   "outputs": [
    {
     "data": {
      "text/plain": [
       "_io.TextIOWrapper"
      ]
     },
     "execution_count": 5,
     "metadata": {},
     "output_type": "execute_result"
    }
   ],
   "source": [
    "filePath = \"data/retail_db/orders/part-00000\"\n",
    "dataFile = open(filePath)\n",
    "type(dataFile)"
   ]
  },
  {
   "cell_type": "code",
   "execution_count": 17,
   "metadata": {},
   "outputs": [
    {
     "name": "stdout",
     "output_type": "stream",
     "text": [
      "2999944\n"
     ]
    },
    {
     "data": {
      "text/plain": [
       "68883"
      ]
     },
     "execution_count": 17,
     "metadata": {},
     "output_type": "execute_result"
    }
   ],
   "source": [
    "ordersPath = \"data/retail_db/orders/part-00000\"\n",
    "ordersFile = open(ordersPath)\n",
    "ordersData = ordersFile.read()\n",
    "type(ordersData)\n",
    "#print(ordersData)\n",
    "print(len(ordersData))\n",
    "#ordersData.split(\"\\n\")\n",
    "\n",
    "ordersList = ordersData.splitlines()\n",
    "type(ordersList)\n",
    "\n",
    "ordersList[:10]\n",
    "\n",
    "len(ordersList)"
   ]
  },
  {
   "cell_type": "code",
   "execution_count": 18,
   "metadata": {},
   "outputs": [],
   "source": [
    "def readData(dataPath):\n",
    "    dataFile = open(dataPath)\n",
    "    dataStr = dataFile.read()\n",
    "    dataList = dataStr.splitlines()\n",
    "    return dataList"
   ]
  },
  {
   "cell_type": "code",
   "execution_count": 21,
   "metadata": {},
   "outputs": [
    {
     "data": {
      "text/plain": [
       "172198"
      ]
     },
     "execution_count": 21,
     "metadata": {},
     "output_type": "execute_result"
    }
   ],
   "source": [
    "orders = readData('data/retail_db/orders/part-00000')\n",
    "len(orders)\n",
    "\n",
    "orders = readData('data/retail_db/order_items/part-00000')\n",
    "len(orders)"
   ]
  },
  {
   "cell_type": "code",
   "execution_count": 22,
   "metadata": {},
   "outputs": [
    {
     "data": {
      "text/plain": [
       "[2, 3, 5, 4]"
      ]
     },
     "execution_count": 22,
     "metadata": {},
     "output_type": "execute_result"
    }
   ],
   "source": [
    "l = [1,2,3,5,4,4,1,2,6]\n",
    "\n",
    "type(l)\n",
    "\n",
    "l[0]\n",
    "l[1]\n",
    "l[:3]\n",
    "l[1:5]"
   ]
  },
  {
   "cell_type": "code",
   "execution_count": 34,
   "metadata": {},
   "outputs": [
    {
     "name": "stdout",
     "output_type": "stream",
     "text": [
      "{1, 2, 3, 4, 5, 6}\n"
     ]
    },
    {
     "data": {
      "text/plain": [
       "6"
      ]
     },
     "execution_count": 34,
     "metadata": {},
     "output_type": "execute_result"
    }
   ],
   "source": [
    "s = {1,2,3,5,4,4,1,2,6}\n",
    "type(s)\n",
    "#s = set({})\n",
    "type(s)\n",
    "\n",
    "print(s)\n",
    "\n",
    "len(s)"
   ]
  },
  {
   "cell_type": "code",
   "execution_count": 37,
   "metadata": {},
   "outputs": [
    {
     "name": "stdout",
     "output_type": "stream",
     "text": [
      "{1: 'How old are you?', 2: 'World'}\n",
      "How old are you?\n"
     ]
    }
   ],
   "source": [
    "d = {1: 'Hello', 2: 'World', 1: 'How old are you?'}\n",
    "\n",
    "print(d)\n",
    "print(d[1])"
   ]
  },
  {
   "cell_type": "code",
   "execution_count": null,
   "metadata": {},
   "outputs": [],
   "source": []
  }
 ],
 "metadata": {
  "kernelspec": {
   "display_name": "Python 3",
   "language": "python",
   "name": "python3"
  },
  "language_info": {
   "codemirror_mode": {
    "name": "ipython",
    "version": 3
   },
   "file_extension": ".py",
   "mimetype": "text/x-python",
   "name": "python",
   "nbconvert_exporter": "python",
   "pygments_lexer": "ipython3",
   "version": "3.7.1"
  }
 },
 "nbformat": 4,
 "nbformat_minor": 2
}
