{
 "cells": [
  {
   "cell_type": "code",
   "execution_count": 2,
   "metadata": {},
   "outputs": [
    {
     "data": {
      "text/plain": [
       "['1,1,957,1,299.98,299.98',\n",
       " '2,2,1073,1,199.99,199.99',\n",
       " '3,2,502,5,250.0,50.0',\n",
       " '4,2,403,1,129.99,129.99',\n",
       " '5,4,897,2,49.98,24.99',\n",
       " '6,4,365,5,299.95,59.99',\n",
       " '7,4,502,3,150.0,50.0',\n",
       " '8,4,1014,4,199.92,49.98',\n",
       " '9,5,957,1,299.98,299.98',\n",
       " '10,5,365,5,299.95,59.99']"
      ]
     },
     "execution_count": 2,
     "metadata": {},
     "output_type": "execute_result"
    }
   ],
   "source": [
    "def readData(dataPath):\n",
    "    dataFile = open(dataPath)\n",
    "    dataStr = dataFile.read()\n",
    "    dataList = dataStr.splitlines()\n",
    "    return dataList\n",
    "\n",
    "orderItemsPath = 'data/retail_db/order_items/part-00000'\n",
    "orderItems = readData(orderItemsPath)\n",
    "\n",
    "orderItems[:10]"
   ]
  },
  {
   "cell_type": "code",
   "execution_count": 25,
   "metadata": {},
   "outputs": [
    {
     "data": {
      "text/plain": [
       "[(1, 299.98),\n",
       " (2, 579.98),\n",
       " (4, 699.85),\n",
       " (5, 1129.8600000000001),\n",
       " (7, 579.9200000000001),\n",
       " (8, 729.8399999999999),\n",
       " (9, 599.96),\n",
       " (10, 651.9200000000001),\n",
       " (11, 919.79),\n",
       " (12, 1299.8700000000001)]"
      ]
     },
     "execution_count": 25,
     "metadata": {},
     "output_type": "execute_result"
    }
   ],
   "source": [
    "import itertools as it\n",
    "#help(it)\n",
    "#(2, [(2,'2,2,1073,1,199.99,199.99'),(2,'2,2,1073,1,199.99,199.99'),(2,'2,2,1073,1,199.99,199.99')])\n",
    "\n",
    "orderItems.sort(key=lambda o:int(o.split(',')[1]))\n",
    "orderItems[:10]\n",
    "\n",
    "orderItemsGroupByOrderId = it.groupby(orderItems, key=lambda o:int(o.split(',')[1]))\n",
    "\n",
    "#revenuePerOrder = map(lambda t:sum(map(lambda a: float(a[1].split(',')[4]),t[1])),orderItemsGroupByOrderId)\n",
    "revenuePerOrder = map(lambda orderItems:\n",
    "                      (orderItems[0], sum(map(lambda oi:\n",
    "                                              float(oi.split(',')[4]),orderItems[1]\n",
    "                                             )\n",
    "                                         )\n",
    "                      ),\n",
    "                      orderItemsGroupByOrderId)\n",
    "\n",
    "list(revenuePerOrder)[:10]\n",
    "#t = (2, [(2,'2,2,1073,1,199.99,199.99'),(2,'2,2,1073,1,199.99,199.99'),(2,'2,2,1073,1,199.99,199.99')])\n",
    "\n",
    "#sum(map(lambda a: float(a[1].split(',')[4]),t[1]))"
   ]
  },
  {
   "cell_type": "code",
   "execution_count": 11,
   "metadata": {},
   "outputs": [
    {
     "data": {
      "text/plain": [
       "order_item_order_id\n",
       "1         299.98\n",
       "2         579.98\n",
       "4         699.85\n",
       "5        1129.86\n",
       "7         579.92\n",
       "8         729.84\n",
       "9         599.96\n",
       "10        651.92\n",
       "11        919.79\n",
       "12       1299.87\n",
       "13        127.96\n",
       "14        549.94\n",
       "15        925.91\n",
       "16        419.93\n",
       "17        694.84\n",
       "18        449.96\n",
       "19        699.96\n",
       "20        879.86\n",
       "21        372.91\n",
       "23        299.98\n",
       "24        829.97\n",
       "25        399.98\n",
       "27        749.97\n",
       "28       1159.90\n",
       "29       1109.85\n",
       "30        100.00\n",
       "31        499.95\n",
       "33        659.89\n",
       "34        299.98\n",
       "35        129.99\n",
       "          ...   \n",
       "68842     789.88\n",
       "68843    1759.89\n",
       "68844     829.97\n",
       "68845     549.96\n",
       "68847     599.93\n",
       "68848    2399.96\n",
       "68851    1439.95\n",
       "68852     200.00\n",
       "68855     199.99\n",
       "68856     129.99\n",
       "68858    2839.91\n",
       "68859    2349.89\n",
       "68860     509.84\n",
       "68861     639.95\n",
       "68862    1659.92\n",
       "68863     869.89\n",
       "68865     399.98\n",
       "68866     279.97\n",
       "68868     429.96\n",
       "68869    1229.97\n",
       "68870     479.92\n",
       "68871     499.98\n",
       "68873     859.91\n",
       "68875    2399.95\n",
       "68878     739.93\n",
       "68879    1259.97\n",
       "68880     999.77\n",
       "68881     129.99\n",
       "68882     109.99\n",
       "68883    2149.99\n",
       "Name: order_item_subtotal, Length: 57431, dtype: float64"
      ]
     },
     "execution_count": 11,
     "metadata": {},
     "output_type": "execute_result"
    }
   ],
   "source": [
    "import pandas as pd\n",
    "\n",
    "#help(pd.read_csv)\n",
    "\n",
    "orderItemsPath = 'data/retail_db/order_items/part-00000'\n",
    "\n",
    "orderItems = pd.read_csv(orderItemsPath, header = None, names=[\"order_item_id\",\"order_item_order_id\",\"order_item_product_id\",\"order_item_quantity\", \"order_item_subtotal\",\"order_item_product_price\"])\n",
    "\n",
    "orderItems\n",
    "\n",
    "orderItems[['order_item_id', 'order_item_subtotal']]\n",
    "\n",
    "orderItems.groupby('order_item_order_id')['order_item_subtotal'].sum()"
   ]
  },
  {
   "cell_type": "code",
   "execution_count": null,
   "metadata": {},
   "outputs": [],
   "source": []
  }
 ],
 "metadata": {
  "kernelspec": {
   "display_name": "Python 3",
   "language": "python",
   "name": "python3"
  },
  "language_info": {
   "codemirror_mode": {
    "name": "ipython",
    "version": 3
   },
   "file_extension": ".py",
   "mimetype": "text/x-python",
   "name": "python",
   "nbconvert_exporter": "python",
   "pygments_lexer": "ipython3",
   "version": "3.7.1"
  }
 },
 "nbformat": 4,
 "nbformat_minor": 2
}
