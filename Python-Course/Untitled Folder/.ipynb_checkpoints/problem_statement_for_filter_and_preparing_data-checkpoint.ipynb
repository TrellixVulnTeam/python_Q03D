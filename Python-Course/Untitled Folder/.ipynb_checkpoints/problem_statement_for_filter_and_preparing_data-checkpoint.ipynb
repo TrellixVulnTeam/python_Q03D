{
 "cells": [
  {
   "cell_type": "code",
   "execution_count": 7,
   "metadata": {},
   "outputs": [
    {
     "data": {
      "text/plain": [
       "['3,2013-07-25 00:00:00.0,12111,COMPLETE',\n",
       " '5,2013-07-25 00:00:00.0,11318,COMPLETE',\n",
       " '6,2013-07-25 00:00:00.0,7130,COMPLETE',\n",
       " '7,2013-07-25 00:00:00.0,4530,COMPLETE',\n",
       " '15,2013-07-25 00:00:00.0,2568,COMPLETE',\n",
       " '17,2013-07-25 00:00:00.0,2667,COMPLETE',\n",
       " '22,2013-07-25 00:00:00.0,333,COMPLETE',\n",
       " '26,2013-07-25 00:00:00.0,7562,COMPLETE',\n",
       " '28,2013-07-25 00:00:00.0,656,COMPLETE',\n",
       " '32,2013-07-25 00:00:00.0,3960,COMPLETE']"
      ]
     },
     "execution_count": 7,
     "metadata": {},
     "output_type": "execute_result"
    }
   ],
   "source": [
    "def readData(dataPath):\n",
    "    dataFile = open(dataPath)\n",
    "    dataStr = dataFile.read()\n",
    "    dataList = dataStr.splitlines()\n",
    "    return dataList\n",
    "\n",
    "orderPath = 'data/retail_db/orders/part-00000'\n",
    "\n",
    "orders = readData(orderPath)\n",
    "\n",
    "orders[:10]\n",
    "\n",
    "orderItemsPath = 'data/retail_db/order_items/part-00000'\n",
    "orderItems = readData(orderItemsPath)\n",
    "\n",
    "orderItems[:10]\n",
    "\n",
    "ordersFilteres = []\n",
    "\n",
    "ordersFiltered = []\n",
    "\n",
    "for order in orders:\n",
    "    if(order.split(\",\")[3] == \"COMPLETE\"):\n",
    "        ordersFiltered.append(order)\n",
    "        \n",
    "ordersFiltered[:10]\n",
    "\n",
    "#order_id, order_date, order_customer_id, order_status "
   ]
  },
  {
   "cell_type": "code",
   "execution_count": 9,
   "metadata": {},
   "outputs": [
    {
     "data": {
      "text/plain": [
       "['1,2013-07-25 00:00:00.0,11599,CLOSED',\n",
       " '2,2013-07-25 00:00:00.0,256,PENDING_PAYMENT',\n",
       " '3,2013-07-25 00:00:00.0,12111,COMPLETE',\n",
       " '4,2013-07-25 00:00:00.0,8827,CLOSED',\n",
       " '5,2013-07-25 00:00:00.0,11318,COMPLETE',\n",
       " '6,2013-07-25 00:00:00.0,7130,COMPLETE',\n",
       " '7,2013-07-25 00:00:00.0,4530,COMPLETE',\n",
       " '8,2013-07-25 00:00:00.0,2911,PROCESSING',\n",
       " '9,2013-07-25 00:00:00.0,5657,PENDING_PAYMENT',\n",
       " '10,2013-07-25 00:00:00.0,5648,PENDING_PAYMENT']"
      ]
     },
     "execution_count": 9,
     "metadata": {},
     "output_type": "execute_result"
    }
   ],
   "source": [
    "ordersFiltered = []\n",
    "\n",
    "for order in orders:\n",
    "    if(order.split(\",\")[1] == \"2013-07-25 00:00:00.0\"):\n",
    "        ordersFiltered.append(order)\n",
    "\n",
    "ordersFiltered[:10]"
   ]
  },
  {
   "cell_type": "code",
   "execution_count": 10,
   "metadata": {},
   "outputs": [
    {
     "data": {
      "text/plain": [
       "['2,2,1073,1,199.99,199.99', '3,2,502,5,250.0,50.0', '4,2,403,1,129.99,129.99']"
      ]
     },
     "execution_count": 10,
     "metadata": {},
     "output_type": "execute_result"
    }
   ],
   "source": [
    "orderItemsFiltered = []\n",
    "\n",
    "for orderItem in orderItems:\n",
    "    if(int(orderItem.split(\",\")[1]) == 2):\n",
    "        orderItemsFiltered.append(orderItem)\n",
    "        \n",
    "orderItemsFiltered[:10]"
   ]
  },
  {
   "cell_type": "code",
   "execution_count": 11,
   "metadata": {},
   "outputs": [
    {
     "data": {
      "text/plain": [
       "['3,2013-07-25 00:00:00.0,12111,COMPLETE',\n",
       " '5,2013-07-25 00:00:00.0,11318,COMPLETE',\n",
       " '6,2013-07-25 00:00:00.0,7130,COMPLETE',\n",
       " '7,2013-07-25 00:00:00.0,4530,COMPLETE',\n",
       " '15,2013-07-25 00:00:00.0,2568,COMPLETE',\n",
       " '17,2013-07-25 00:00:00.0,2667,COMPLETE',\n",
       " '22,2013-07-25 00:00:00.0,333,COMPLETE',\n",
       " '26,2013-07-25 00:00:00.0,7562,COMPLETE',\n",
       " '28,2013-07-25 00:00:00.0,656,COMPLETE',\n",
       " '32,2013-07-25 00:00:00.0,3960,COMPLETE']"
      ]
     },
     "execution_count": 11,
     "metadata": {},
     "output_type": "execute_result"
    }
   ],
   "source": [
    "def myFilter(c):\n",
    "    ordersFiltered = []\n",
    "    for order in orders:\n",
    "        if(order.split(\",\")[3] == \"COMPLETE\"):\n",
    "            ordersFiltered.append(order)\n",
    "    return ordersFiltered\n",
    "\n",
    "ordersFiltered = myFilter(orders)\n",
    "ordersFiltered[:10]"
   ]
  },
  {
   "cell_type": "code",
   "execution_count": 18,
   "metadata": {},
   "outputs": [
    {
     "ename": "SyntaxError",
     "evalue": "invalid syntax (<ipython-input-18-5cd129401d16>, line 12)",
     "output_type": "error",
     "traceback": [
      "\u001b[1;36m  File \u001b[1;32m\"<ipython-input-18-5cd129401d16>\"\u001b[1;36m, line \u001b[1;32m12\u001b[0m\n\u001b[1;33m    returjn i.split(\",\")[3] == \"COMPLETE\"\u001b[0m\n\u001b[1;37m            ^\u001b[0m\n\u001b[1;31mSyntaxError\u001b[0m\u001b[1;31m:\u001b[0m invalid syntax\n"
     ]
    }
   ],
   "source": [
    "def myFilter(c,f):\n",
    "    newC = []\n",
    "    for i in c:\n",
    "        if (f):\n",
    "            newC.append(i)          \n",
    "    return newC\n",
    "\n",
    "len(orders)\n",
    "orders[:10]\n",
    "\n",
    "def cond(i):\n",
    "    returjn i.split(\",\")[3] == \"COMPLETE\"\n",
    "    \n",
    "    \n",
    "ordersFiltered = myFilter(orders,cond)"
   ]
  },
  {
   "cell_type": "code",
   "execution_count": null,
   "metadata": {},
   "outputs": [],
   "source": []
  }
 ],
 "metadata": {
  "kernelspec": {
   "display_name": "Python 3",
   "language": "python",
   "name": "python3"
  },
  "language_info": {
   "codemirror_mode": {
    "name": "ipython",
    "version": 3
   },
   "file_extension": ".py",
   "mimetype": "text/x-python",
   "name": "python",
   "nbconvert_exporter": "python",
   "pygments_lexer": "ipython3",
   "version": "3.7.1"
  }
 },
 "nbformat": 4,
 "nbformat_minor": 2
}
