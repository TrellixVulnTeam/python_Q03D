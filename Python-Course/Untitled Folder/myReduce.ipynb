{
 "cells": [
  {
   "cell_type": "markdown",
   "metadata": {},
   "source": [
    "    Reduce(on filtered and mapped order item subtotal based on order_id)\n",
    "        Get total revenue by adding all the revenues\n",
    "        Get minimun of order item subtotal\n",
    "        Get maximun of order item subtotal\n",
    "        In all 3 cases we need to initialize aggregator, loop through the values in collection and add it to the aggregator"
   ]
  },
  {
   "cell_type": "code",
   "execution_count": 3,
   "metadata": {},
   "outputs": [
    {
     "data": {
      "text/plain": [
       "['2013-07',\n",
       " '2013-07',\n",
       " '2013-07',\n",
       " '2013-07',\n",
       " '2013-07',\n",
       " '2013-07',\n",
       " '2013-07',\n",
       " '2013-07',\n",
       " '2013-07',\n",
       " '2013-07']"
      ]
     },
     "execution_count": 3,
     "metadata": {},
     "output_type": "execute_result"
    }
   ],
   "source": [
    "ordersPath = \"data/retail_db/orders/part-00000\"\n",
    "\n",
    "def readData(dataPath):\n",
    "    dataFile = open(dataPath)\n",
    "    dataStr = dataFile.read()\n",
    "    dataList = dataStr.splitlines()\n",
    "    return dataList\n",
    "\n",
    "orders = readData(ordersPath)\n",
    "\n",
    "ordersMap = []\n",
    "\n",
    "for order in orders:\n",
    "    ordersMap.append((int(order.split(\",\")[0]), order.split(\",\")[3]))\n",
    "    \n",
    "ordersMap[:10]\n",
    "\n",
    "def myMap(c,f):\n",
    "    newC = []\n",
    "    for i in c:\n",
    "        newC.append(f(i))\n",
    "    return newC\n",
    "\n",
    "def getOrderIdAndStatus(order):\n",
    "    return (int(order.split(\",\")[0]), order.split(\",\")[3])\n",
    "\n",
    "\n",
    "orderItemsPath = 'data/retail_db/order_items/part-00000'\n",
    "orderItems = readData(orderItemsPath)\n",
    "\n",
    "#or \n",
    "#orderStatuses = myMap(orders,getOrderIdAndStatus)\n",
    "orderStatuses = myMap(orders,lambda order: (int(order.split(\",\")[0]), order.split(\",\")[3]))\n",
    "orderStatuses[:10]\n",
    "\n",
    "orderIdAndSubtotal = myMap(orderItems, lambda oi: (int(oi.split(\",\")[1]), float(oi.split(\",\")[4])))\n",
    "\n",
    "orderIdAndSubtotal[:10]\n",
    "\n",
    "\n",
    "orderMonths = myMap(orders, lambda o: o.split(\",\")[1][:7])\n",
    "\n",
    "orderMonths[:10]"
   ]
  },
  {
   "cell_type": "code",
   "execution_count": 6,
   "metadata": {},
   "outputs": [
    {
     "data": {
      "text/plain": [
       "[199.99, 250.0, 129.99]"
      ]
     },
     "execution_count": 6,
     "metadata": {},
     "output_type": "execute_result"
    }
   ],
   "source": [
    "\n",
    "def getOrderItemsFiltered(orderItems, orderId):\n",
    "    orderItemsFiltered = []\n",
    "    for orderItem in orderItems:\n",
    "        if(int(orderItem.split(\",\")[1]) == orderId):\n",
    "            orderItemsFiltered.append(orderItem)\n",
    "    return orderItemsFiltered\n",
    "\n",
    "def getOrderItemsMap(orderItemsFiltered):\n",
    "    orderItemsMap = []\n",
    "    for orderItem in orderItemsFiltered:\n",
    "        orderItemsMap.append(float(orderItem.split(\",\")[4]))\n",
    "    return orderItemsMap\n",
    "\n",
    "orderItems = readData(orderItemsPath)\n",
    "orderItemsFiltered = getOrderItemsFiltered(orderItems, 2)\n",
    "\n",
    "orderItemsMap = getOrderItemsMap(orderItemsFiltered)\n",
    "\n",
    "\n",
    "orderItemsMap[:10]"
   ]
  },
  {
   "cell_type": "code",
   "execution_count": 8,
   "metadata": {},
   "outputs": [
    {
     "data": {
      "text/plain": [
       "579.98"
      ]
     },
     "execution_count": 8,
     "metadata": {},
     "output_type": "execute_result"
    }
   ],
   "source": [
    "totalRevenue = orderItemsMap[0]\n",
    "for orderItemSubtotal in orderItemsMap[1:]:\n",
    "    totalRevenue += orderItemSubtotal\n",
    "    \n",
    "totalRevenue"
   ]
  },
  {
   "cell_type": "code",
   "execution_count": 9,
   "metadata": {},
   "outputs": [
    {
     "data": {
      "text/plain": [
       "129.99"
      ]
     },
     "execution_count": 9,
     "metadata": {},
     "output_type": "execute_result"
    }
   ],
   "source": [
    "minRevenue = orderItemsMap[0]\n",
    "for orderItemSubtotal in orderItemsMap[1:]:\n",
    "    minRevenue = minRevenue if(minRevenue < orderItemSubtotal) else orderItemSubtotal\n",
    "    \n",
    "minRevenue"
   ]
  },
  {
   "cell_type": "code",
   "execution_count": 11,
   "metadata": {},
   "outputs": [
    {
     "data": {
      "text/plain": [
       "250.0"
      ]
     },
     "execution_count": 11,
     "metadata": {},
     "output_type": "execute_result"
    }
   ],
   "source": [
    "maxRevenue = orderItemsMap[0]\n",
    "\n",
    "for orderItemSubtotal in orderItemsMap[1:]:\n",
    "    maxRevenue = maxRevenue if(maxRevenue > orderItemSubtotal) else orderItemSubtotal\n",
    "\n",
    "maxRevenue"
   ]
  },
  {
   "cell_type": "code",
   "execution_count": 14,
   "metadata": {},
   "outputs": [
    {
     "data": {
      "text/plain": [
       "250.0"
      ]
     },
     "execution_count": 14,
     "metadata": {},
     "output_type": "execute_result"
    }
   ],
   "source": [
    "def myReduce(c,f):\n",
    "    t = c[0]\n",
    "    for i in c[1:]:\n",
    "        t = f(t,i)\n",
    "    return t\n",
    "1\n",
    "orderRevenue = myReduce(orderItemsMap, lambda i,j: i+j) #Total Revenue\n",
    "orderRevenue = myReduce(orderItemsMap, lambda i,j: i if(i < j) else j) #MinRevenue\n",
    "orderRevenue = myReduce(orderItemsMap, lambda i,j: i if(i > j) else j) #MaxRevenue\n",
    "\n",
    "\n",
    "orderRevenue"
   ]
  },
  {
   "cell_type": "code",
   "execution_count": 15,
   "metadata": {},
   "outputs": [
    {
     "name": "stdout",
     "output_type": "stream",
     "text": [
      "Help on class filter in module builtins:\n",
      "\n",
      "class filter(object)\n",
      " |  filter(function or None, iterable) --> filter object\n",
      " |  \n",
      " |  Return an iterator yielding those items of iterable for which function(item)\n",
      " |  is true. If function is None, return the items that are true.\n",
      " |  \n",
      " |  Methods defined here:\n",
      " |  \n",
      " |  __getattribute__(self, name, /)\n",
      " |      Return getattr(self, name).\n",
      " |  \n",
      " |  __iter__(self, /)\n",
      " |      Implement iter(self).\n",
      " |  \n",
      " |  __next__(self, /)\n",
      " |      Implement next(self).\n",
      " |  \n",
      " |  __reduce__(...)\n",
      " |      Return state information for pickling.\n",
      " |  \n",
      " |  ----------------------------------------------------------------------\n",
      " |  Static methods defined here:\n",
      " |  \n",
      " |  __new__(*args, **kwargs) from builtins.type\n",
      " |      Create and return a new object.  See help(type) for accurate signature.\n",
      "\n"
     ]
    }
   ],
   "source": [
    "help(filter)"
   ]
  },
  {
   "cell_type": "code",
   "execution_count": 32,
   "metadata": {},
   "outputs": [
    {
     "data": {
      "text/plain": [
       "579.98"
      ]
     },
     "execution_count": 32,
     "metadata": {},
     "output_type": "execute_result"
    }
   ],
   "source": [
    "ordersComplete = filter(lambda o: o.split(\",\")[3] == \"COMPLETE\", orders)\n",
    "list(ordersComplete)[:10]\n",
    "\n",
    "\n",
    "ordersFiltered = filter(lambda oi: int(oi.split(',')[1]) == 2, orderItems)\n",
    "#list(orderItemsFiltered)\n",
    "\n",
    "orderItemsMap = map(lambda oi: float(oi.split(',')[4]), orderItemsFiltered)\n",
    "#orderItemsMap\n",
    "\n",
    "#list(orderItemsMap)\n",
    "#sum(orderItemsMap)\n",
    "\n",
    "\n",
    "\n",
    "\n",
    "import functools as ft\n",
    "ft.reduce(lambda i, j: i+j, orderItemsMap)\n"
   ]
  },
  {
   "cell_type": "code",
   "execution_count": null,
   "metadata": {},
   "outputs": [],
   "source": []
  },
  {
   "cell_type": "code",
   "execution_count": null,
   "metadata": {},
   "outputs": [],
   "source": []
  }
 ],
 "metadata": {
  "kernelspec": {
   "display_name": "Python 3",
   "language": "python",
   "name": "python3"
  },
  "language_info": {
   "codemirror_mode": {
    "name": "ipython",
    "version": 3
   },
   "file_extension": ".py",
   "mimetype": "text/x-python",
   "name": "python",
   "nbconvert_exporter": "python",
   "pygments_lexer": "ipython3",
   "version": "3.7.1"
  }
 },
 "nbformat": 4,
 "nbformat_minor": 2
}
