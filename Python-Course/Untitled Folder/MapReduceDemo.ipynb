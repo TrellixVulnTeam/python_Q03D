{
 "cells": [
  {
   "cell_type": "markdown",
   "metadata": {},
   "source": [
    "    Get order_id and order_status from orders (1st and 4th fields of orders data)\n",
    "    Get order_item_order_id and order_item_subtotal from order_items (2nd and 5th field of order_items_data)\n",
    "    Get order_month from orders data (extract year and month from 2nd field)\n",
    "    In all 3 cases we need to iterate through collection, transform individual records and add them to new colection"
   ]
  },
  {
   "cell_type": "code",
   "execution_count": 2,
   "metadata": {},
   "outputs": [
    {
     "data": {
      "text/plain": [
       "[(1, 'CLOSED'),\n",
       " (2, 'PENDING_PAYMENT'),\n",
       " (3, 'COMPLETE'),\n",
       " (4, 'CLOSED'),\n",
       " (5, 'COMPLETE'),\n",
       " (6, 'COMPLETE'),\n",
       " (7, 'COMPLETE'),\n",
       " (8, 'PROCESSING'),\n",
       " (9, 'PENDING_PAYMENT'),\n",
       " (10, 'PENDING_PAYMENT')]"
      ]
     },
     "execution_count": 2,
     "metadata": {},
     "output_type": "execute_result"
    }
   ],
   "source": [
    "ordersPath = \"data/retail_db/orders/part-00000\"\n",
    "\n",
    "def readData(dataPath):\n",
    "    dataFile = open(dataPath)\n",
    "    dataStr = dataFile.read()\n",
    "    dataList = dataStr.splitlines()\n",
    "    return dataList\n",
    "\n",
    "orders = readData(ordersPath)\n",
    "\n",
    "ordersMap = []\n",
    "\n",
    "for order in orders:\n",
    "    ordersMap.append((int(order.split(\",\")[0]), order.split(\",\")[3]))\n",
    "    \n",
    "ordersMap[:10]"
   ]
  },
  {
   "cell_type": "code",
   "execution_count": 14,
   "metadata": {},
   "outputs": [
    {
     "data": {
      "text/plain": [
       "['2013-07',\n",
       " '2013-07',\n",
       " '2013-07',\n",
       " '2013-07',\n",
       " '2013-07',\n",
       " '2013-07',\n",
       " '2013-07',\n",
       " '2013-07',\n",
       " '2013-07',\n",
       " '2013-07']"
      ]
     },
     "execution_count": 14,
     "metadata": {},
     "output_type": "execute_result"
    }
   ],
   "source": [
    "def myMap(c,f):\n",
    "    newC = []\n",
    "    for i in c:\n",
    "        newC.append(f(i))\n",
    "    return newC\n",
    "\n",
    "def getOrderIdAndStatus(order):\n",
    "    return (int(order.split(\",\")[0]), order.split(\",\")[3])\n",
    "\n",
    "orderItemsPath = 'data/retail_db/order_items/part-00000'\n",
    "orderItems = readData(orderItemsPath)\n",
    "\n",
    "#or \n",
    "#orderStatuses = myMap(orders,getOrderIdAndStatus)\n",
    "orderStatuses = myMap(orders,lambda order: (int(order.split(\",\")[0]), order.split(\",\")[3]))\n",
    "orderStatuses[:10]\n",
    "\n",
    "orderIdAndSubtotal = myMap(orderItems, lambda oi: (int(oi.split(\",\")[1]), float(oi.split(\",\")[4])))\n",
    "\n",
    "orderIdAndSubtotal[:10]\n",
    "\n",
    "\n",
    "orderMonths = myMap(orders, lambda o: o.split(\",\")[1][:7])\n",
    "\n",
    "orderMonths[:10]"
   ]
  },
  {
   "cell_type": "code",
   "execution_count": null,
   "metadata": {},
   "outputs": [],
   "source": []
  }
 ],
 "metadata": {
  "kernelspec": {
   "display_name": "Python 3",
   "language": "python",
   "name": "python3"
  },
  "language_info": {
   "codemirror_mode": {
    "name": "ipython",
    "version": 3
   },
   "file_extension": ".py",
   "mimetype": "text/x-python",
   "name": "python",
   "nbconvert_exporter": "python",
   "pygments_lexer": "ipython3",
   "version": "3.7.1"
  }
 },
 "nbformat": 4,
 "nbformat_minor": 2
}
